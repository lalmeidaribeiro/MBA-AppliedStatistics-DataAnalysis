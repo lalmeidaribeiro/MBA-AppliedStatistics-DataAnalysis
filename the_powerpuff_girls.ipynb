{
  "nbformat": 4,
  "nbformat_minor": 0,
  "metadata": {
    "colab": {
      "provenance": [],
      "toc_visible": true
    },
    "kernelspec": {
      "name": "python3",
      "display_name": "Python 3"
    },
    "language_info": {
      "name": "python"
    }
  },
  "cells": [
    {
      "cell_type": "markdown",
      "source": [
        "#DIÁRIO DE ANÁLISES"
      ],
      "metadata": {
        "id": "wjSe-ugdI_5N"
      }
    },
    {
      "cell_type": "markdown",
      "source": [
        "## Encontrado x problemas de registros:\n",
        "###2024.11.13 - 11h20min\n",
        "  - Campo Unnamed: 13, Unnamed: 14, Unnamed: 15,\tUnnamed: 16,\tUnnamed: 17,\tUnnamed: 1 - Excluir colunas.\n",
        "  - Linhas: 358 a 366 - Excluir linhas sem registros.\n",
        "\n",
        "  - Grupo the_powerpuff_girls. (Larissa Ribeiro)\n",
        "\n",
        "###2024.11.21-17h57min\n",
        "  - Campo \"dieta\" valor nulo para o ID 1\n",
        "  - Pergunta enviada por Larissa Ribeiro do Grupo \"the_powerpuff_girls\" ao grupo \"Data +\" ao Pesquisador Murilo Santone de Menezes, sobre qual seria número do campo dieta que está nulo.\n",
        "\n",
        "###2024.11.21-18h03min\n",
        "  - Resposta recebida do grupo \"Data +\" informada pelo pesquisador Murilo\n",
        "  - Campo \"dieta\" faltante deve ser preenchido com o número 1.\n",
        "\n",
        "###2024.11.21-18h29min\n",
        "  - Campo \"sexo\" valor H em várias linhas, verificando se realmente é um campo (M)asculino\n",
        "  - Pergunta enviada por Larissa Ribeiro do Grupo \"the_powerpuff_girls\" ao grupo \"Analytical Team\" ao Pesquisador   Hugo Henrique Corvo dos Santos sobre qual seria a letra correta para as linhas do campo \"sexo\" com a letra H.\n",
        "\n",
        "###2024.11.21-18h:32min\n",
        "  - Resposta recebida do grupo \"Analytical Team\" informada pelo pesquisador Hugo\n",
        "  - Campo \"sexo\" está com conteúdo errado (Sigla H) deve ser preenchido com (M)asculino.\n",
        "\n",
        "###2024.11.21-18h48min\n",
        "  - Campo \"sexo\" valor G em uma linha, verificando qual o valor para a substituição.\n",
        "  - Pergunta enviada por Larissa Ribeiro a Grasiely Lima ambas grupo \"the_powerpuff_girls\".\n",
        "\n",
        "###2024.11.21-18h58min\n",
        "  - Resposta recebida do grupo \"the_powerpuff_girls\" informada pelo pesquisadora Grasiely\n",
        "  - Campo \"sexo\" está com conteúdo errado (Sigla G) deve ser preenchido com (M)asculino.\n",
        "\n",
        "###2024.11.21-??????\n",
        "  - Campo \"peso\" valor de 190kg para uma mulher de 29 anos, verificar se setrata de um outlier.\n",
        "  - Pergunta enviada por Larissa Ribeiro do grupo \"the_powerpuff_girls\" ao grupo \"Analytical Team\" ao Pesquisador Hugo Henrique Corvo dos Santos.\n",
        "\n",
        "\n",
        "\n",
        "\n",
        "\n",
        "\n",
        "\n",
        "###20241111-16h12\n",
        "  - pergunta recebida do grupo g2 sobre o campo z com conteúdo faltando\n",
        "\n",
        "###20241111-17h42\n",
        "  - resposta enviada ao grupo g2, campo z deve ser preenchido com Z\n"
      ],
      "metadata": {
        "id": "5VNUFR_RJFri"
      }
    },
    {
      "cell_type": "markdown",
      "source": [
        "#Importando Bibliotecas\n"
      ],
      "metadata": {
        "id": "UVCGL024rMa-"
      }
    },
    {
      "cell_type": "code",
      "execution_count": 2,
      "metadata": {
        "id": "K2gh21AFzt_7"
      },
      "outputs": [],
      "source": [
        "import numpy as np\n",
        "import pandas as pd"
      ]
    },
    {
      "cell_type": "markdown",
      "source": [
        "#Leitura do arquivo de dados"
      ],
      "metadata": {
        "id": "vQhoy9KbK49d"
      }
    },
    {
      "cell_type": "code",
      "source": [
        "from google.colab import drive\n",
        "drive.mount('/content/drive')"
      ],
      "metadata": {
        "colab": {
          "base_uri": "https://localhost:8080/"
        },
        "id": "3EnPZVoFqSqt",
        "outputId": "33ac559e-0ce1-428b-b21a-6991fe8502e4"
      },
      "execution_count": 3,
      "outputs": [
        {
          "output_type": "stream",
          "name": "stdout",
          "text": [
            "Mounted at /content/drive\n"
          ]
        }
      ]
    },
    {
      "cell_type": "code",
      "source": [
        "file_path = '/content/drive/MyDrive/Applied_Statistics/Bases/'"
      ],
      "metadata": {
        "id": "S_TELeeIqZz2"
      },
      "execution_count": 4,
      "outputs": []
    },
    {
      "cell_type": "code",
      "source": [
        "base = pd.read_csv(f'{file_path}/dados_dsa29.csv')"
      ],
      "metadata": {
        "id": "9xiAa-gYqxZt"
      },
      "execution_count": 5,
      "outputs": []
    },
    {
      "cell_type": "markdown",
      "source": [
        "# Tratamento do dataset"
      ],
      "metadata": {
        "id": "4iZPSKRlPwrf"
      }
    },
    {
      "cell_type": "markdown",
      "source": [
        "## Analisando o dataset e realizando os tratamentos"
      ],
      "metadata": {
        "id": "1ac_kOq_q_XS"
      }
    },
    {
      "cell_type": "code",
      "source": [
        "base.shape #Verificando o tamanho do dataset"
      ],
      "metadata": {
        "colab": {
          "base_uri": "https://localhost:8080/"
        },
        "id": "k5IC_zoysCaK",
        "outputId": "0de33ad0-4acd-44fa-b98d-1d79422840db"
      },
      "execution_count": 9,
      "outputs": [
        {
          "output_type": "execute_result",
          "data": {
            "text/plain": [
              "(365, 19)"
            ]
          },
          "metadata": {},
          "execution_count": 9
        }
      ]
    },
    {
      "cell_type": "code",
      "source": [
        "base.head()"
      ],
      "metadata": {
        "colab": {
          "base_uri": "https://localhost:8080/",
          "height": 417
        },
        "id": "vgz-9ELqsg-p",
        "outputId": "d8bda302-ec54-4a84-91b9-dc788d9e8c95"
      },
      "execution_count": 10,
      "outputs": [
        {
          "output_type": "execute_result",
          "data": {
            "text/plain": [
              "         pesquisador (aluno)  pesq_id      cep  idade sexo  peso altura  \\\n",
              "0  Murilo Santone de Menezes      1.0  3479030   26.0    M  67.0    183   \n",
              "1  Murilo Santone de Menezes      1.0  3479030   42.0    F  65.0    173   \n",
              "2  Murilo Santone de Menezes      1.0  3479030   61.0    M  67.0    178   \n",
              "3  Murilo Santone de Menezes      1.0  3479030   86.0    F  60.0    165   \n",
              "4  Murilo Santone de Menezes      1.0  3479030   24.0    F  70.0    170   \n",
              "\n",
              "   estado_civil  escolaridade  consumo_alcool  fumante  exercícios  dieta  \\\n",
              "0           1.0           5.0             3.0      1.0         3.0    NaN   \n",
              "1           2.0           4.0             4.0      4.0         1.0    1.0   \n",
              "2           2.0           1.0             3.0      4.0         4.0    1.0   \n",
              "3           3.0           1.0             6.0      4.0         4.0    1.0   \n",
              "4           1.0           2.0             2.0      2.0         4.0    1.0   \n",
              "\n",
              "   Unnamed: 13 Unnamed: 14 Unnamed: 15  Unnamed: 16 Unnamed: 17 Unnamed: 18  \n",
              "0          NaN         NaN         NaN          NaN         NaN         NaN  \n",
              "1          NaN         NaN         NaN          NaN         NaN         NaN  \n",
              "2          NaN         NaN         NaN          NaN         NaN         NaN  \n",
              "3          NaN         NaN         NaN          NaN         NaN         NaN  \n",
              "4          NaN         NaN         NaN          NaN         NaN         NaN  "
            ],
            "text/html": [
              "\n",
              "  <div id=\"df-b219ab49-6a9a-4e6c-9014-d3fb9f614dab\" class=\"colab-df-container\">\n",
              "    <div>\n",
              "<style scoped>\n",
              "    .dataframe tbody tr th:only-of-type {\n",
              "        vertical-align: middle;\n",
              "    }\n",
              "\n",
              "    .dataframe tbody tr th {\n",
              "        vertical-align: top;\n",
              "    }\n",
              "\n",
              "    .dataframe thead th {\n",
              "        text-align: right;\n",
              "    }\n",
              "</style>\n",
              "<table border=\"1\" class=\"dataframe\">\n",
              "  <thead>\n",
              "    <tr style=\"text-align: right;\">\n",
              "      <th></th>\n",
              "      <th>pesquisador (aluno)</th>\n",
              "      <th>pesq_id</th>\n",
              "      <th>cep</th>\n",
              "      <th>idade</th>\n",
              "      <th>sexo</th>\n",
              "      <th>peso</th>\n",
              "      <th>altura</th>\n",
              "      <th>estado_civil</th>\n",
              "      <th>escolaridade</th>\n",
              "      <th>consumo_alcool</th>\n",
              "      <th>fumante</th>\n",
              "      <th>exercícios</th>\n",
              "      <th>dieta</th>\n",
              "      <th>Unnamed: 13</th>\n",
              "      <th>Unnamed: 14</th>\n",
              "      <th>Unnamed: 15</th>\n",
              "      <th>Unnamed: 16</th>\n",
              "      <th>Unnamed: 17</th>\n",
              "      <th>Unnamed: 18</th>\n",
              "    </tr>\n",
              "  </thead>\n",
              "  <tbody>\n",
              "    <tr>\n",
              "      <th>0</th>\n",
              "      <td>Murilo Santone de Menezes</td>\n",
              "      <td>1.0</td>\n",
              "      <td>3479030</td>\n",
              "      <td>26.0</td>\n",
              "      <td>M</td>\n",
              "      <td>67.0</td>\n",
              "      <td>183</td>\n",
              "      <td>1.0</td>\n",
              "      <td>5.0</td>\n",
              "      <td>3.0</td>\n",
              "      <td>1.0</td>\n",
              "      <td>3.0</td>\n",
              "      <td>NaN</td>\n",
              "      <td>NaN</td>\n",
              "      <td>NaN</td>\n",
              "      <td>NaN</td>\n",
              "      <td>NaN</td>\n",
              "      <td>NaN</td>\n",
              "      <td>NaN</td>\n",
              "    </tr>\n",
              "    <tr>\n",
              "      <th>1</th>\n",
              "      <td>Murilo Santone de Menezes</td>\n",
              "      <td>1.0</td>\n",
              "      <td>3479030</td>\n",
              "      <td>42.0</td>\n",
              "      <td>F</td>\n",
              "      <td>65.0</td>\n",
              "      <td>173</td>\n",
              "      <td>2.0</td>\n",
              "      <td>4.0</td>\n",
              "      <td>4.0</td>\n",
              "      <td>4.0</td>\n",
              "      <td>1.0</td>\n",
              "      <td>1.0</td>\n",
              "      <td>NaN</td>\n",
              "      <td>NaN</td>\n",
              "      <td>NaN</td>\n",
              "      <td>NaN</td>\n",
              "      <td>NaN</td>\n",
              "      <td>NaN</td>\n",
              "    </tr>\n",
              "    <tr>\n",
              "      <th>2</th>\n",
              "      <td>Murilo Santone de Menezes</td>\n",
              "      <td>1.0</td>\n",
              "      <td>3479030</td>\n",
              "      <td>61.0</td>\n",
              "      <td>M</td>\n",
              "      <td>67.0</td>\n",
              "      <td>178</td>\n",
              "      <td>2.0</td>\n",
              "      <td>1.0</td>\n",
              "      <td>3.0</td>\n",
              "      <td>4.0</td>\n",
              "      <td>4.0</td>\n",
              "      <td>1.0</td>\n",
              "      <td>NaN</td>\n",
              "      <td>NaN</td>\n",
              "      <td>NaN</td>\n",
              "      <td>NaN</td>\n",
              "      <td>NaN</td>\n",
              "      <td>NaN</td>\n",
              "    </tr>\n",
              "    <tr>\n",
              "      <th>3</th>\n",
              "      <td>Murilo Santone de Menezes</td>\n",
              "      <td>1.0</td>\n",
              "      <td>3479030</td>\n",
              "      <td>86.0</td>\n",
              "      <td>F</td>\n",
              "      <td>60.0</td>\n",
              "      <td>165</td>\n",
              "      <td>3.0</td>\n",
              "      <td>1.0</td>\n",
              "      <td>6.0</td>\n",
              "      <td>4.0</td>\n",
              "      <td>4.0</td>\n",
              "      <td>1.0</td>\n",
              "      <td>NaN</td>\n",
              "      <td>NaN</td>\n",
              "      <td>NaN</td>\n",
              "      <td>NaN</td>\n",
              "      <td>NaN</td>\n",
              "      <td>NaN</td>\n",
              "    </tr>\n",
              "    <tr>\n",
              "      <th>4</th>\n",
              "      <td>Murilo Santone de Menezes</td>\n",
              "      <td>1.0</td>\n",
              "      <td>3479030</td>\n",
              "      <td>24.0</td>\n",
              "      <td>F</td>\n",
              "      <td>70.0</td>\n",
              "      <td>170</td>\n",
              "      <td>1.0</td>\n",
              "      <td>2.0</td>\n",
              "      <td>2.0</td>\n",
              "      <td>2.0</td>\n",
              "      <td>4.0</td>\n",
              "      <td>1.0</td>\n",
              "      <td>NaN</td>\n",
              "      <td>NaN</td>\n",
              "      <td>NaN</td>\n",
              "      <td>NaN</td>\n",
              "      <td>NaN</td>\n",
              "      <td>NaN</td>\n",
              "    </tr>\n",
              "  </tbody>\n",
              "</table>\n",
              "</div>\n",
              "    <div class=\"colab-df-buttons\">\n",
              "\n",
              "  <div class=\"colab-df-container\">\n",
              "    <button class=\"colab-df-convert\" onclick=\"convertToInteractive('df-b219ab49-6a9a-4e6c-9014-d3fb9f614dab')\"\n",
              "            title=\"Convert this dataframe to an interactive table.\"\n",
              "            style=\"display:none;\">\n",
              "\n",
              "  <svg xmlns=\"http://www.w3.org/2000/svg\" height=\"24px\" viewBox=\"0 -960 960 960\">\n",
              "    <path d=\"M120-120v-720h720v720H120Zm60-500h600v-160H180v160Zm220 220h160v-160H400v160Zm0 220h160v-160H400v160ZM180-400h160v-160H180v160Zm440 0h160v-160H620v160ZM180-180h160v-160H180v160Zm440 0h160v-160H620v160Z\"/>\n",
              "  </svg>\n",
              "    </button>\n",
              "\n",
              "  <style>\n",
              "    .colab-df-container {\n",
              "      display:flex;\n",
              "      gap: 12px;\n",
              "    }\n",
              "\n",
              "    .colab-df-convert {\n",
              "      background-color: #E8F0FE;\n",
              "      border: none;\n",
              "      border-radius: 50%;\n",
              "      cursor: pointer;\n",
              "      display: none;\n",
              "      fill: #1967D2;\n",
              "      height: 32px;\n",
              "      padding: 0 0 0 0;\n",
              "      width: 32px;\n",
              "    }\n",
              "\n",
              "    .colab-df-convert:hover {\n",
              "      background-color: #E2EBFA;\n",
              "      box-shadow: 0px 1px 2px rgba(60, 64, 67, 0.3), 0px 1px 3px 1px rgba(60, 64, 67, 0.15);\n",
              "      fill: #174EA6;\n",
              "    }\n",
              "\n",
              "    .colab-df-buttons div {\n",
              "      margin-bottom: 4px;\n",
              "    }\n",
              "\n",
              "    [theme=dark] .colab-df-convert {\n",
              "      background-color: #3B4455;\n",
              "      fill: #D2E3FC;\n",
              "    }\n",
              "\n",
              "    [theme=dark] .colab-df-convert:hover {\n",
              "      background-color: #434B5C;\n",
              "      box-shadow: 0px 1px 3px 1px rgba(0, 0, 0, 0.15);\n",
              "      filter: drop-shadow(0px 1px 2px rgba(0, 0, 0, 0.3));\n",
              "      fill: #FFFFFF;\n",
              "    }\n",
              "  </style>\n",
              "\n",
              "    <script>\n",
              "      const buttonEl =\n",
              "        document.querySelector('#df-b219ab49-6a9a-4e6c-9014-d3fb9f614dab button.colab-df-convert');\n",
              "      buttonEl.style.display =\n",
              "        google.colab.kernel.accessAllowed ? 'block' : 'none';\n",
              "\n",
              "      async function convertToInteractive(key) {\n",
              "        const element = document.querySelector('#df-b219ab49-6a9a-4e6c-9014-d3fb9f614dab');\n",
              "        const dataTable =\n",
              "          await google.colab.kernel.invokeFunction('convertToInteractive',\n",
              "                                                    [key], {});\n",
              "        if (!dataTable) return;\n",
              "\n",
              "        const docLinkHtml = 'Like what you see? Visit the ' +\n",
              "          '<a target=\"_blank\" href=https://colab.research.google.com/notebooks/data_table.ipynb>data table notebook</a>'\n",
              "          + ' to learn more about interactive tables.';\n",
              "        element.innerHTML = '';\n",
              "        dataTable['output_type'] = 'display_data';\n",
              "        await google.colab.output.renderOutput(dataTable, element);\n",
              "        const docLink = document.createElement('div');\n",
              "        docLink.innerHTML = docLinkHtml;\n",
              "        element.appendChild(docLink);\n",
              "      }\n",
              "    </script>\n",
              "  </div>\n",
              "\n",
              "\n",
              "<div id=\"df-d803a643-3699-4e5e-b30a-3095b9ed7e3e\">\n",
              "  <button class=\"colab-df-quickchart\" onclick=\"quickchart('df-d803a643-3699-4e5e-b30a-3095b9ed7e3e')\"\n",
              "            title=\"Suggest charts\"\n",
              "            style=\"display:none;\">\n",
              "\n",
              "<svg xmlns=\"http://www.w3.org/2000/svg\" height=\"24px\"viewBox=\"0 0 24 24\"\n",
              "     width=\"24px\">\n",
              "    <g>\n",
              "        <path d=\"M19 3H5c-1.1 0-2 .9-2 2v14c0 1.1.9 2 2 2h14c1.1 0 2-.9 2-2V5c0-1.1-.9-2-2-2zM9 17H7v-7h2v7zm4 0h-2V7h2v10zm4 0h-2v-4h2v4z\"/>\n",
              "    </g>\n",
              "</svg>\n",
              "  </button>\n",
              "\n",
              "<style>\n",
              "  .colab-df-quickchart {\n",
              "      --bg-color: #E8F0FE;\n",
              "      --fill-color: #1967D2;\n",
              "      --hover-bg-color: #E2EBFA;\n",
              "      --hover-fill-color: #174EA6;\n",
              "      --disabled-fill-color: #AAA;\n",
              "      --disabled-bg-color: #DDD;\n",
              "  }\n",
              "\n",
              "  [theme=dark] .colab-df-quickchart {\n",
              "      --bg-color: #3B4455;\n",
              "      --fill-color: #D2E3FC;\n",
              "      --hover-bg-color: #434B5C;\n",
              "      --hover-fill-color: #FFFFFF;\n",
              "      --disabled-bg-color: #3B4455;\n",
              "      --disabled-fill-color: #666;\n",
              "  }\n",
              "\n",
              "  .colab-df-quickchart {\n",
              "    background-color: var(--bg-color);\n",
              "    border: none;\n",
              "    border-radius: 50%;\n",
              "    cursor: pointer;\n",
              "    display: none;\n",
              "    fill: var(--fill-color);\n",
              "    height: 32px;\n",
              "    padding: 0;\n",
              "    width: 32px;\n",
              "  }\n",
              "\n",
              "  .colab-df-quickchart:hover {\n",
              "    background-color: var(--hover-bg-color);\n",
              "    box-shadow: 0 1px 2px rgba(60, 64, 67, 0.3), 0 1px 3px 1px rgba(60, 64, 67, 0.15);\n",
              "    fill: var(--button-hover-fill-color);\n",
              "  }\n",
              "\n",
              "  .colab-df-quickchart-complete:disabled,\n",
              "  .colab-df-quickchart-complete:disabled:hover {\n",
              "    background-color: var(--disabled-bg-color);\n",
              "    fill: var(--disabled-fill-color);\n",
              "    box-shadow: none;\n",
              "  }\n",
              "\n",
              "  .colab-df-spinner {\n",
              "    border: 2px solid var(--fill-color);\n",
              "    border-color: transparent;\n",
              "    border-bottom-color: var(--fill-color);\n",
              "    animation:\n",
              "      spin 1s steps(1) infinite;\n",
              "  }\n",
              "\n",
              "  @keyframes spin {\n",
              "    0% {\n",
              "      border-color: transparent;\n",
              "      border-bottom-color: var(--fill-color);\n",
              "      border-left-color: var(--fill-color);\n",
              "    }\n",
              "    20% {\n",
              "      border-color: transparent;\n",
              "      border-left-color: var(--fill-color);\n",
              "      border-top-color: var(--fill-color);\n",
              "    }\n",
              "    30% {\n",
              "      border-color: transparent;\n",
              "      border-left-color: var(--fill-color);\n",
              "      border-top-color: var(--fill-color);\n",
              "      border-right-color: var(--fill-color);\n",
              "    }\n",
              "    40% {\n",
              "      border-color: transparent;\n",
              "      border-right-color: var(--fill-color);\n",
              "      border-top-color: var(--fill-color);\n",
              "    }\n",
              "    60% {\n",
              "      border-color: transparent;\n",
              "      border-right-color: var(--fill-color);\n",
              "    }\n",
              "    80% {\n",
              "      border-color: transparent;\n",
              "      border-right-color: var(--fill-color);\n",
              "      border-bottom-color: var(--fill-color);\n",
              "    }\n",
              "    90% {\n",
              "      border-color: transparent;\n",
              "      border-bottom-color: var(--fill-color);\n",
              "    }\n",
              "  }\n",
              "</style>\n",
              "\n",
              "  <script>\n",
              "    async function quickchart(key) {\n",
              "      const quickchartButtonEl =\n",
              "        document.querySelector('#' + key + ' button');\n",
              "      quickchartButtonEl.disabled = true;  // To prevent multiple clicks.\n",
              "      quickchartButtonEl.classList.add('colab-df-spinner');\n",
              "      try {\n",
              "        const charts = await google.colab.kernel.invokeFunction(\n",
              "            'suggestCharts', [key], {});\n",
              "      } catch (error) {\n",
              "        console.error('Error during call to suggestCharts:', error);\n",
              "      }\n",
              "      quickchartButtonEl.classList.remove('colab-df-spinner');\n",
              "      quickchartButtonEl.classList.add('colab-df-quickchart-complete');\n",
              "    }\n",
              "    (() => {\n",
              "      let quickchartButtonEl =\n",
              "        document.querySelector('#df-d803a643-3699-4e5e-b30a-3095b9ed7e3e button');\n",
              "      quickchartButtonEl.style.display =\n",
              "        google.colab.kernel.accessAllowed ? 'block' : 'none';\n",
              "    })();\n",
              "  </script>\n",
              "</div>\n",
              "\n",
              "    </div>\n",
              "  </div>\n"
            ],
            "application/vnd.google.colaboratory.intrinsic+json": {
              "type": "dataframe",
              "variable_name": "base",
              "summary": "{\n  \"name\": \"base\",\n  \"rows\": 365,\n  \"fields\": [\n    {\n      \"column\": \"pesquisador (aluno)\",\n      \"properties\": {\n        \"dtype\": \"category\",\n        \"num_unique_values\": 38,\n        \"samples\": [\n          \"Felipe Vinicius Torres\",\n          \"Raldijar Pinto Le\\u00e3o Filho\",\n          \"Carlos Menezes de Oliveira\"\n        ],\n        \"semantic_type\": \"\",\n        \"description\": \"\"\n      }\n    },\n    {\n      \"column\": \"pesq_id\",\n      \"properties\": {\n        \"dtype\": \"number\",\n        \"std\": 9.253602785670456,\n        \"min\": 1.0,\n        \"max\": 32.0,\n        \"num_unique_values\": 32,\n        \"samples\": [\n          30.0,\n          16.0,\n          25.0\n        ],\n        \"semantic_type\": \"\",\n        \"description\": \"\"\n      }\n    },\n    {\n      \"column\": \"cep\",\n      \"properties\": {\n        \"dtype\": \"string\",\n        \"num_unique_values\": 190,\n        \"samples\": [\n          \"90123456\",\n          \"40020010\",\n          \"4815010\"\n        ],\n        \"semantic_type\": \"\",\n        \"description\": \"\"\n      }\n    },\n    {\n      \"column\": \"idade\",\n      \"properties\": {\n        \"dtype\": \"number\",\n        \"std\": 15.855866977147066,\n        \"min\": 1.0,\n        \"max\": 86.0,\n        \"num_unique_values\": 68,\n        \"samples\": [\n          73.0,\n          70.0,\n          24.0\n        ],\n        \"semantic_type\": \"\",\n        \"description\": \"\"\n      }\n    },\n    {\n      \"column\": \"sexo\",\n      \"properties\": {\n        \"dtype\": \"category\",\n        \"num_unique_values\": 7,\n        \"samples\": [\n          \"M\",\n          \"F\",\n          \"H\"\n        ],\n        \"semantic_type\": \"\",\n        \"description\": \"\"\n      }\n    },\n    {\n      \"column\": \"peso\",\n      \"properties\": {\n        \"dtype\": \"number\",\n        \"std\": 21.826724886796807,\n        \"min\": 9.0,\n        \"max\": 190.0,\n        \"num_unique_values\": 83,\n        \"samples\": [\n          58.0,\n          67.0,\n          91.0\n        ],\n        \"semantic_type\": \"\",\n        \"description\": \"\"\n      }\n    },\n    {\n      \"column\": \"altura\",\n      \"properties\": {\n        \"dtype\": \"category\",\n        \"num_unique_values\": 71,\n        \"samples\": [\n          \"151\",\n          \"183\",\n          \"100\"\n        ],\n        \"semantic_type\": \"\",\n        \"description\": \"\"\n      }\n    },\n    {\n      \"column\": \"estado_civil\",\n      \"properties\": {\n        \"dtype\": \"number\",\n        \"std\": 1.0555105988524895,\n        \"min\": 1.0,\n        \"max\": 5.0,\n        \"num_unique_values\": 5,\n        \"samples\": [\n          2.0,\n          4.0,\n          3.0\n        ],\n        \"semantic_type\": \"\",\n        \"description\": \"\"\n      }\n    },\n    {\n      \"column\": \"escolaridade\",\n      \"properties\": {\n        \"dtype\": \"number\",\n        \"std\": 1.405967995960376,\n        \"min\": 1.0,\n        \"max\": 7.0,\n        \"num_unique_values\": 7,\n        \"samples\": [\n          5.0,\n          4.0,\n          6.0\n        ],\n        \"semantic_type\": \"\",\n        \"description\": \"\"\n      }\n    },\n    {\n      \"column\": \"consumo_alcool\",\n      \"properties\": {\n        \"dtype\": \"number\",\n        \"std\": 1.5937126085232414,\n        \"min\": 1.0,\n        \"max\": 6.0,\n        \"num_unique_values\": 6,\n        \"samples\": [\n          3.0,\n          4.0,\n          1.0\n        ],\n        \"semantic_type\": \"\",\n        \"description\": \"\"\n      }\n    },\n    {\n      \"column\": \"fumante\",\n      \"properties\": {\n        \"dtype\": \"number\",\n        \"std\": 1.0970075224354292,\n        \"min\": 1.0,\n        \"max\": 5.0,\n        \"num_unique_values\": 5,\n        \"samples\": [\n          4.0,\n          3.0,\n          2.0\n        ],\n        \"semantic_type\": \"\",\n        \"description\": \"\"\n      }\n    },\n    {\n      \"column\": \"exerc\\u00edcios\",\n      \"properties\": {\n        \"dtype\": \"number\",\n        \"std\": 1.1327715432099714,\n        \"min\": 1.0,\n        \"max\": 6.0,\n        \"num_unique_values\": 6,\n        \"samples\": [\n          3.0,\n          1.0,\n          6.0\n        ],\n        \"semantic_type\": \"\",\n        \"description\": \"\"\n      }\n    },\n    {\n      \"column\": \"dieta\",\n      \"properties\": {\n        \"dtype\": \"number\",\n        \"std\": 1.1367072438395085,\n        \"min\": 1.0,\n        \"max\": 4.0,\n        \"num_unique_values\": 4,\n        \"samples\": [\n          4.0,\n          3.0,\n          1.0\n        ],\n        \"semantic_type\": \"\",\n        \"description\": \"\"\n      }\n    },\n    {\n      \"column\": \"Unnamed: 13\",\n      \"properties\": {\n        \"dtype\": \"number\",\n        \"std\": null,\n        \"min\": null,\n        \"max\": null,\n        \"num_unique_values\": 0,\n        \"samples\": [],\n        \"semantic_type\": \"\",\n        \"description\": \"\"\n      }\n    },\n    {\n      \"column\": \"Unnamed: 14\",\n      \"properties\": {\n        \"dtype\": \"category\",\n        \"num_unique_values\": 7,\n        \"samples\": [],\n        \"semantic_type\": \"\",\n        \"description\": \"\"\n      }\n    },\n    {\n      \"column\": \"Unnamed: 15\",\n      \"properties\": {\n        \"dtype\": \"category\",\n        \"num_unique_values\": 15,\n        \"samples\": [],\n        \"semantic_type\": \"\",\n        \"description\": \"\"\n      }\n    },\n    {\n      \"column\": \"Unnamed: 16\",\n      \"properties\": {\n        \"dtype\": \"number\",\n        \"std\": null,\n        \"min\": null,\n        \"max\": null,\n        \"num_unique_values\": 0,\n        \"samples\": [],\n        \"semantic_type\": \"\",\n        \"description\": \"\"\n      }\n    },\n    {\n      \"column\": \"Unnamed: 17\",\n      \"properties\": {\n        \"dtype\": \"category\",\n        \"num_unique_values\": 9,\n        \"samples\": [],\n        \"semantic_type\": \"\",\n        \"description\": \"\"\n      }\n    },\n    {\n      \"column\": \"Unnamed: 18\",\n      \"properties\": {\n        \"dtype\": \"category\",\n        \"num_unique_values\": 12,\n        \"samples\": [],\n        \"semantic_type\": \"\",\n        \"description\": \"\"\n      }\n    }\n  ]\n}"
            }
          },
          "metadata": {},
          "execution_count": 10
        }
      ]
    },
    {
      "cell_type": "code",
      "source": [
        "base.info()"
      ],
      "metadata": {
        "colab": {
          "base_uri": "https://localhost:8080/"
        },
        "id": "I4Uw-vJfaj3A",
        "outputId": "c8553ad5-54d6-45c0-93d2-bfb1b99e53e7"
      },
      "execution_count": 11,
      "outputs": [
        {
          "output_type": "stream",
          "name": "stdout",
          "text": [
            "<class 'pandas.core.frame.DataFrame'>\n",
            "RangeIndex: 365 entries, 0 to 364\n",
            "Data columns (total 19 columns):\n",
            " #   Column               Non-Null Count  Dtype  \n",
            "---  ------               --------------  -----  \n",
            " 0   pesquisador (aluno)  364 non-null    object \n",
            " 1   pesq_id              358 non-null    float64\n",
            " 2   cep                  358 non-null    object \n",
            " 3   idade                358 non-null    float64\n",
            " 4   sexo                 358 non-null    object \n",
            " 5   peso                 358 non-null    float64\n",
            " 6   altura               358 non-null    object \n",
            " 7   estado_civil         358 non-null    float64\n",
            " 8   escolaridade         358 non-null    float64\n",
            " 9   consumo_alcool       358 non-null    float64\n",
            " 10  fumante              358 non-null    float64\n",
            " 11  exercícios           358 non-null    float64\n",
            " 12  dieta                357 non-null    float64\n",
            " 13  Unnamed: 13          0 non-null      float64\n",
            " 14  Unnamed: 14          16 non-null     object \n",
            " 15  Unnamed: 15          15 non-null     object \n",
            " 16  Unnamed: 16          0 non-null      float64\n",
            " 17  Unnamed: 17          17 non-null     object \n",
            " 18  Unnamed: 18          14 non-null     object \n",
            "dtypes: float64(11), object(8)\n",
            "memory usage: 54.3+ KB\n"
          ]
        }
      ]
    },
    {
      "cell_type": "markdown",
      "source": [
        "### 1° Excluindo linhas, colunas e tratando dados nulos"
      ],
      "metadata": {
        "id": "Ezop2zALLFGC"
      }
    },
    {
      "cell_type": "code",
      "source": [
        "#1- Excluir as colunas Unnamed: 13\tUnnamed: 14\tUnnamed: 15\tUnnamed: 16\tUnnamed: 17\tUnnamed: 18\n",
        "base.drop(columns=['Unnamed: 13', 'Unnamed: 14', 'Unnamed: 15', 'Unnamed: 16', 'Unnamed: 17', 'Unnamed: 18'], inplace=True)"
      ],
      "metadata": {
        "id": "atMum4j39djM"
      },
      "execution_count": 12,
      "outputs": []
    },
    {
      "cell_type": "code",
      "source": [
        "#2- Analisando dados nulos\n",
        "base.isnull().sum()"
      ],
      "metadata": {
        "colab": {
          "base_uri": "https://localhost:8080/",
          "height": 492
        },
        "id": "R5XVEbpDaVmW",
        "outputId": "256b0364-e8d8-4aa6-e23a-7a1faa16c75d"
      },
      "execution_count": 13,
      "outputs": [
        {
          "output_type": "execute_result",
          "data": {
            "text/plain": [
              "pesquisador (aluno)    1\n",
              "pesq_id                7\n",
              "cep                    7\n",
              "idade                  7\n",
              "sexo                   7\n",
              "peso                   7\n",
              "altura                 7\n",
              "estado_civil           7\n",
              "escolaridade           7\n",
              "consumo_alcool         7\n",
              "fumante                7\n",
              "exercícios             7\n",
              "dieta                  8\n",
              "dtype: int64"
            ],
            "text/html": [
              "<div>\n",
              "<style scoped>\n",
              "    .dataframe tbody tr th:only-of-type {\n",
              "        vertical-align: middle;\n",
              "    }\n",
              "\n",
              "    .dataframe tbody tr th {\n",
              "        vertical-align: top;\n",
              "    }\n",
              "\n",
              "    .dataframe thead th {\n",
              "        text-align: right;\n",
              "    }\n",
              "</style>\n",
              "<table border=\"1\" class=\"dataframe\">\n",
              "  <thead>\n",
              "    <tr style=\"text-align: right;\">\n",
              "      <th></th>\n",
              "      <th>0</th>\n",
              "    </tr>\n",
              "  </thead>\n",
              "  <tbody>\n",
              "    <tr>\n",
              "      <th>pesquisador (aluno)</th>\n",
              "      <td>1</td>\n",
              "    </tr>\n",
              "    <tr>\n",
              "      <th>pesq_id</th>\n",
              "      <td>7</td>\n",
              "    </tr>\n",
              "    <tr>\n",
              "      <th>cep</th>\n",
              "      <td>7</td>\n",
              "    </tr>\n",
              "    <tr>\n",
              "      <th>idade</th>\n",
              "      <td>7</td>\n",
              "    </tr>\n",
              "    <tr>\n",
              "      <th>sexo</th>\n",
              "      <td>7</td>\n",
              "    </tr>\n",
              "    <tr>\n",
              "      <th>peso</th>\n",
              "      <td>7</td>\n",
              "    </tr>\n",
              "    <tr>\n",
              "      <th>altura</th>\n",
              "      <td>7</td>\n",
              "    </tr>\n",
              "    <tr>\n",
              "      <th>estado_civil</th>\n",
              "      <td>7</td>\n",
              "    </tr>\n",
              "    <tr>\n",
              "      <th>escolaridade</th>\n",
              "      <td>7</td>\n",
              "    </tr>\n",
              "    <tr>\n",
              "      <th>consumo_alcool</th>\n",
              "      <td>7</td>\n",
              "    </tr>\n",
              "    <tr>\n",
              "      <th>fumante</th>\n",
              "      <td>7</td>\n",
              "    </tr>\n",
              "    <tr>\n",
              "      <th>exercícios</th>\n",
              "      <td>7</td>\n",
              "    </tr>\n",
              "    <tr>\n",
              "      <th>dieta</th>\n",
              "      <td>8</td>\n",
              "    </tr>\n",
              "  </tbody>\n",
              "</table>\n",
              "</div><br><label><b>dtype:</b> int64</label>"
            ]
          },
          "metadata": {},
          "execution_count": 13
        }
      ]
    },
    {
      "cell_type": "code",
      "source": [
        "print(base.tail(7))"
      ],
      "metadata": {
        "colab": {
          "base_uri": "https://localhost:8080/"
        },
        "id": "SujMr4I9-Ttf",
        "outputId": "a753e059-ecc7-48e6-e6b6-fce378afa798"
      },
      "execution_count": 14,
      "outputs": [
        {
          "output_type": "stream",
          "name": "stdout",
          "text": [
            "                   pesquisador (aluno)  pesq_id  cep  idade sexo  peso altura  \\\n",
            "358                                NaN      NaN  NaN    NaN  NaN   NaN    NaN   \n",
            "359  Cesar Henrique de Freitas Barbosa      NaN  NaN    NaN  NaN   NaN    NaN   \n",
            "360             Felipe Vinicius Torres      NaN  NaN    NaN  NaN   NaN    NaN   \n",
            "361          Lucas da Mota Corrêa Cogo      NaN  NaN    NaN  NaN   NaN    NaN   \n",
            "362            Manoela Santos de Souza      NaN  NaN    NaN  NaN   NaN    NaN   \n",
            "363          Raldijar Pinto Leão Filho      NaN  NaN    NaN  NaN   NaN    NaN   \n",
            "364              Yago Costa dos Santos      NaN  NaN    NaN  NaN   NaN    NaN   \n",
            "\n",
            "     estado_civil  escolaridade  consumo_alcool  fumante  exercícios  dieta  \n",
            "358           NaN           NaN             NaN      NaN         NaN    NaN  \n",
            "359           NaN           NaN             NaN      NaN         NaN    NaN  \n",
            "360           NaN           NaN             NaN      NaN         NaN    NaN  \n",
            "361           NaN           NaN             NaN      NaN         NaN    NaN  \n",
            "362           NaN           NaN             NaN      NaN         NaN    NaN  \n",
            "363           NaN           NaN             NaN      NaN         NaN    NaN  \n",
            "364           NaN           NaN             NaN      NaN         NaN    NaN  \n"
          ]
        }
      ]
    },
    {
      "cell_type": "code",
      "source": [
        "#2- Excluir linhas sem dados Cesar, felipe, Lucas, Manoela, Raldijar e Yago - Valores nulos\n",
        "base.drop([358,359,360,361,362,363,364], axis=0, inplace=True)\n",
        "base"
      ],
      "metadata": {
        "id": "YSeY53_r_cBd",
        "colab": {
          "base_uri": "https://localhost:8080/",
          "height": 808
        },
        "outputId": "caf4c882-efc8-4766-85b4-10ddca2cfe15"
      },
      "execution_count": 15,
      "outputs": [
        {
          "output_type": "execute_result",
          "data": {
            "text/plain": [
              "           pesquisador (aluno)  pesq_id      cep  idade sexo   peso altura  \\\n",
              "0    Murilo Santone de Menezes      1.0  3479030   26.0    M   67.0    183   \n",
              "1    Murilo Santone de Menezes      1.0  3479030   42.0    F   65.0    173   \n",
              "2    Murilo Santone de Menezes      1.0  3479030   61.0    M   67.0    178   \n",
              "3    Murilo Santone de Menezes      1.0  3479030   86.0    F   60.0    165   \n",
              "4    Murilo Santone de Menezes      1.0  3479030   24.0    F   70.0    170   \n",
              "..                         ...      ...      ...    ...  ...    ...    ...   \n",
              "353   Ryan de Oliveira Queiroz     32.0  2460000   58.0    F   59.8    182   \n",
              "354   Ryan de Oliveira Queiroz     32.0  2238130   78.0    F   97.8    173   \n",
              "355   Ryan de Oliveira Queiroz     32.0  2238130   36.0    F  107.8    156   \n",
              "356   Ryan de Oliveira Queiroz     32.0  2543000   35.0    M   56.4    176   \n",
              "357   Ryan de Oliveira Queiroz     32.0  2543000   77.0    F   79.1    176   \n",
              "\n",
              "     estado_civil  escolaridade  consumo_alcool  fumante  exercícios  dieta  \n",
              "0             1.0           5.0             3.0      1.0         3.0    NaN  \n",
              "1             2.0           4.0             4.0      4.0         1.0    1.0  \n",
              "2             2.0           1.0             3.0      4.0         4.0    1.0  \n",
              "3             3.0           1.0             6.0      4.0         4.0    1.0  \n",
              "4             1.0           2.0             2.0      2.0         4.0    1.0  \n",
              "..            ...           ...             ...      ...         ...    ...  \n",
              "353           1.0           7.0             5.0      2.0         3.0    4.0  \n",
              "354           4.0           3.0             2.0      3.0         4.0    3.0  \n",
              "355           4.0           1.0             1.0      1.0         2.0    4.0  \n",
              "356           3.0           7.0             4.0      2.0         1.0    2.0  \n",
              "357           1.0           3.0             4.0      4.0         1.0    3.0  \n",
              "\n",
              "[358 rows x 13 columns]"
            ],
            "text/html": [
              "\n",
              "  <div id=\"df-656ca376-eed2-4c90-91df-4d1327c339e0\" class=\"colab-df-container\">\n",
              "    <div>\n",
              "<style scoped>\n",
              "    .dataframe tbody tr th:only-of-type {\n",
              "        vertical-align: middle;\n",
              "    }\n",
              "\n",
              "    .dataframe tbody tr th {\n",
              "        vertical-align: top;\n",
              "    }\n",
              "\n",
              "    .dataframe thead th {\n",
              "        text-align: right;\n",
              "    }\n",
              "</style>\n",
              "<table border=\"1\" class=\"dataframe\">\n",
              "  <thead>\n",
              "    <tr style=\"text-align: right;\">\n",
              "      <th></th>\n",
              "      <th>pesquisador (aluno)</th>\n",
              "      <th>pesq_id</th>\n",
              "      <th>cep</th>\n",
              "      <th>idade</th>\n",
              "      <th>sexo</th>\n",
              "      <th>peso</th>\n",
              "      <th>altura</th>\n",
              "      <th>estado_civil</th>\n",
              "      <th>escolaridade</th>\n",
              "      <th>consumo_alcool</th>\n",
              "      <th>fumante</th>\n",
              "      <th>exercícios</th>\n",
              "      <th>dieta</th>\n",
              "    </tr>\n",
              "  </thead>\n",
              "  <tbody>\n",
              "    <tr>\n",
              "      <th>0</th>\n",
              "      <td>Murilo Santone de Menezes</td>\n",
              "      <td>1.0</td>\n",
              "      <td>3479030</td>\n",
              "      <td>26.0</td>\n",
              "      <td>M</td>\n",
              "      <td>67.0</td>\n",
              "      <td>183</td>\n",
              "      <td>1.0</td>\n",
              "      <td>5.0</td>\n",
              "      <td>3.0</td>\n",
              "      <td>1.0</td>\n",
              "      <td>3.0</td>\n",
              "      <td>NaN</td>\n",
              "    </tr>\n",
              "    <tr>\n",
              "      <th>1</th>\n",
              "      <td>Murilo Santone de Menezes</td>\n",
              "      <td>1.0</td>\n",
              "      <td>3479030</td>\n",
              "      <td>42.0</td>\n",
              "      <td>F</td>\n",
              "      <td>65.0</td>\n",
              "      <td>173</td>\n",
              "      <td>2.0</td>\n",
              "      <td>4.0</td>\n",
              "      <td>4.0</td>\n",
              "      <td>4.0</td>\n",
              "      <td>1.0</td>\n",
              "      <td>1.0</td>\n",
              "    </tr>\n",
              "    <tr>\n",
              "      <th>2</th>\n",
              "      <td>Murilo Santone de Menezes</td>\n",
              "      <td>1.0</td>\n",
              "      <td>3479030</td>\n",
              "      <td>61.0</td>\n",
              "      <td>M</td>\n",
              "      <td>67.0</td>\n",
              "      <td>178</td>\n",
              "      <td>2.0</td>\n",
              "      <td>1.0</td>\n",
              "      <td>3.0</td>\n",
              "      <td>4.0</td>\n",
              "      <td>4.0</td>\n",
              "      <td>1.0</td>\n",
              "    </tr>\n",
              "    <tr>\n",
              "      <th>3</th>\n",
              "      <td>Murilo Santone de Menezes</td>\n",
              "      <td>1.0</td>\n",
              "      <td>3479030</td>\n",
              "      <td>86.0</td>\n",
              "      <td>F</td>\n",
              "      <td>60.0</td>\n",
              "      <td>165</td>\n",
              "      <td>3.0</td>\n",
              "      <td>1.0</td>\n",
              "      <td>6.0</td>\n",
              "      <td>4.0</td>\n",
              "      <td>4.0</td>\n",
              "      <td>1.0</td>\n",
              "    </tr>\n",
              "    <tr>\n",
              "      <th>4</th>\n",
              "      <td>Murilo Santone de Menezes</td>\n",
              "      <td>1.0</td>\n",
              "      <td>3479030</td>\n",
              "      <td>24.0</td>\n",
              "      <td>F</td>\n",
              "      <td>70.0</td>\n",
              "      <td>170</td>\n",
              "      <td>1.0</td>\n",
              "      <td>2.0</td>\n",
              "      <td>2.0</td>\n",
              "      <td>2.0</td>\n",
              "      <td>4.0</td>\n",
              "      <td>1.0</td>\n",
              "    </tr>\n",
              "    <tr>\n",
              "      <th>...</th>\n",
              "      <td>...</td>\n",
              "      <td>...</td>\n",
              "      <td>...</td>\n",
              "      <td>...</td>\n",
              "      <td>...</td>\n",
              "      <td>...</td>\n",
              "      <td>...</td>\n",
              "      <td>...</td>\n",
              "      <td>...</td>\n",
              "      <td>...</td>\n",
              "      <td>...</td>\n",
              "      <td>...</td>\n",
              "      <td>...</td>\n",
              "    </tr>\n",
              "    <tr>\n",
              "      <th>353</th>\n",
              "      <td>Ryan de Oliveira Queiroz</td>\n",
              "      <td>32.0</td>\n",
              "      <td>2460000</td>\n",
              "      <td>58.0</td>\n",
              "      <td>F</td>\n",
              "      <td>59.8</td>\n",
              "      <td>182</td>\n",
              "      <td>1.0</td>\n",
              "      <td>7.0</td>\n",
              "      <td>5.0</td>\n",
              "      <td>2.0</td>\n",
              "      <td>3.0</td>\n",
              "      <td>4.0</td>\n",
              "    </tr>\n",
              "    <tr>\n",
              "      <th>354</th>\n",
              "      <td>Ryan de Oliveira Queiroz</td>\n",
              "      <td>32.0</td>\n",
              "      <td>2238130</td>\n",
              "      <td>78.0</td>\n",
              "      <td>F</td>\n",
              "      <td>97.8</td>\n",
              "      <td>173</td>\n",
              "      <td>4.0</td>\n",
              "      <td>3.0</td>\n",
              "      <td>2.0</td>\n",
              "      <td>3.0</td>\n",
              "      <td>4.0</td>\n",
              "      <td>3.0</td>\n",
              "    </tr>\n",
              "    <tr>\n",
              "      <th>355</th>\n",
              "      <td>Ryan de Oliveira Queiroz</td>\n",
              "      <td>32.0</td>\n",
              "      <td>2238130</td>\n",
              "      <td>36.0</td>\n",
              "      <td>F</td>\n",
              "      <td>107.8</td>\n",
              "      <td>156</td>\n",
              "      <td>4.0</td>\n",
              "      <td>1.0</td>\n",
              "      <td>1.0</td>\n",
              "      <td>1.0</td>\n",
              "      <td>2.0</td>\n",
              "      <td>4.0</td>\n",
              "    </tr>\n",
              "    <tr>\n",
              "      <th>356</th>\n",
              "      <td>Ryan de Oliveira Queiroz</td>\n",
              "      <td>32.0</td>\n",
              "      <td>2543000</td>\n",
              "      <td>35.0</td>\n",
              "      <td>M</td>\n",
              "      <td>56.4</td>\n",
              "      <td>176</td>\n",
              "      <td>3.0</td>\n",
              "      <td>7.0</td>\n",
              "      <td>4.0</td>\n",
              "      <td>2.0</td>\n",
              "      <td>1.0</td>\n",
              "      <td>2.0</td>\n",
              "    </tr>\n",
              "    <tr>\n",
              "      <th>357</th>\n",
              "      <td>Ryan de Oliveira Queiroz</td>\n",
              "      <td>32.0</td>\n",
              "      <td>2543000</td>\n",
              "      <td>77.0</td>\n",
              "      <td>F</td>\n",
              "      <td>79.1</td>\n",
              "      <td>176</td>\n",
              "      <td>1.0</td>\n",
              "      <td>3.0</td>\n",
              "      <td>4.0</td>\n",
              "      <td>4.0</td>\n",
              "      <td>1.0</td>\n",
              "      <td>3.0</td>\n",
              "    </tr>\n",
              "  </tbody>\n",
              "</table>\n",
              "<p>358 rows × 13 columns</p>\n",
              "</div>\n",
              "    <div class=\"colab-df-buttons\">\n",
              "\n",
              "  <div class=\"colab-df-container\">\n",
              "    <button class=\"colab-df-convert\" onclick=\"convertToInteractive('df-656ca376-eed2-4c90-91df-4d1327c339e0')\"\n",
              "            title=\"Convert this dataframe to an interactive table.\"\n",
              "            style=\"display:none;\">\n",
              "\n",
              "  <svg xmlns=\"http://www.w3.org/2000/svg\" height=\"24px\" viewBox=\"0 -960 960 960\">\n",
              "    <path d=\"M120-120v-720h720v720H120Zm60-500h600v-160H180v160Zm220 220h160v-160H400v160Zm0 220h160v-160H400v160ZM180-400h160v-160H180v160Zm440 0h160v-160H620v160ZM180-180h160v-160H180v160Zm440 0h160v-160H620v160Z\"/>\n",
              "  </svg>\n",
              "    </button>\n",
              "\n",
              "  <style>\n",
              "    .colab-df-container {\n",
              "      display:flex;\n",
              "      gap: 12px;\n",
              "    }\n",
              "\n",
              "    .colab-df-convert {\n",
              "      background-color: #E8F0FE;\n",
              "      border: none;\n",
              "      border-radius: 50%;\n",
              "      cursor: pointer;\n",
              "      display: none;\n",
              "      fill: #1967D2;\n",
              "      height: 32px;\n",
              "      padding: 0 0 0 0;\n",
              "      width: 32px;\n",
              "    }\n",
              "\n",
              "    .colab-df-convert:hover {\n",
              "      background-color: #E2EBFA;\n",
              "      box-shadow: 0px 1px 2px rgba(60, 64, 67, 0.3), 0px 1px 3px 1px rgba(60, 64, 67, 0.15);\n",
              "      fill: #174EA6;\n",
              "    }\n",
              "\n",
              "    .colab-df-buttons div {\n",
              "      margin-bottom: 4px;\n",
              "    }\n",
              "\n",
              "    [theme=dark] .colab-df-convert {\n",
              "      background-color: #3B4455;\n",
              "      fill: #D2E3FC;\n",
              "    }\n",
              "\n",
              "    [theme=dark] .colab-df-convert:hover {\n",
              "      background-color: #434B5C;\n",
              "      box-shadow: 0px 1px 3px 1px rgba(0, 0, 0, 0.15);\n",
              "      filter: drop-shadow(0px 1px 2px rgba(0, 0, 0, 0.3));\n",
              "      fill: #FFFFFF;\n",
              "    }\n",
              "  </style>\n",
              "\n",
              "    <script>\n",
              "      const buttonEl =\n",
              "        document.querySelector('#df-656ca376-eed2-4c90-91df-4d1327c339e0 button.colab-df-convert');\n",
              "      buttonEl.style.display =\n",
              "        google.colab.kernel.accessAllowed ? 'block' : 'none';\n",
              "\n",
              "      async function convertToInteractive(key) {\n",
              "        const element = document.querySelector('#df-656ca376-eed2-4c90-91df-4d1327c339e0');\n",
              "        const dataTable =\n",
              "          await google.colab.kernel.invokeFunction('convertToInteractive',\n",
              "                                                    [key], {});\n",
              "        if (!dataTable) return;\n",
              "\n",
              "        const docLinkHtml = 'Like what you see? Visit the ' +\n",
              "          '<a target=\"_blank\" href=https://colab.research.google.com/notebooks/data_table.ipynb>data table notebook</a>'\n",
              "          + ' to learn more about interactive tables.';\n",
              "        element.innerHTML = '';\n",
              "        dataTable['output_type'] = 'display_data';\n",
              "        await google.colab.output.renderOutput(dataTable, element);\n",
              "        const docLink = document.createElement('div');\n",
              "        docLink.innerHTML = docLinkHtml;\n",
              "        element.appendChild(docLink);\n",
              "      }\n",
              "    </script>\n",
              "  </div>\n",
              "\n",
              "\n",
              "<div id=\"df-8dc5e294-f913-44cb-83c4-8d7693f54e07\">\n",
              "  <button class=\"colab-df-quickchart\" onclick=\"quickchart('df-8dc5e294-f913-44cb-83c4-8d7693f54e07')\"\n",
              "            title=\"Suggest charts\"\n",
              "            style=\"display:none;\">\n",
              "\n",
              "<svg xmlns=\"http://www.w3.org/2000/svg\" height=\"24px\"viewBox=\"0 0 24 24\"\n",
              "     width=\"24px\">\n",
              "    <g>\n",
              "        <path d=\"M19 3H5c-1.1 0-2 .9-2 2v14c0 1.1.9 2 2 2h14c1.1 0 2-.9 2-2V5c0-1.1-.9-2-2-2zM9 17H7v-7h2v7zm4 0h-2V7h2v10zm4 0h-2v-4h2v4z\"/>\n",
              "    </g>\n",
              "</svg>\n",
              "  </button>\n",
              "\n",
              "<style>\n",
              "  .colab-df-quickchart {\n",
              "      --bg-color: #E8F0FE;\n",
              "      --fill-color: #1967D2;\n",
              "      --hover-bg-color: #E2EBFA;\n",
              "      --hover-fill-color: #174EA6;\n",
              "      --disabled-fill-color: #AAA;\n",
              "      --disabled-bg-color: #DDD;\n",
              "  }\n",
              "\n",
              "  [theme=dark] .colab-df-quickchart {\n",
              "      --bg-color: #3B4455;\n",
              "      --fill-color: #D2E3FC;\n",
              "      --hover-bg-color: #434B5C;\n",
              "      --hover-fill-color: #FFFFFF;\n",
              "      --disabled-bg-color: #3B4455;\n",
              "      --disabled-fill-color: #666;\n",
              "  }\n",
              "\n",
              "  .colab-df-quickchart {\n",
              "    background-color: var(--bg-color);\n",
              "    border: none;\n",
              "    border-radius: 50%;\n",
              "    cursor: pointer;\n",
              "    display: none;\n",
              "    fill: var(--fill-color);\n",
              "    height: 32px;\n",
              "    padding: 0;\n",
              "    width: 32px;\n",
              "  }\n",
              "\n",
              "  .colab-df-quickchart:hover {\n",
              "    background-color: var(--hover-bg-color);\n",
              "    box-shadow: 0 1px 2px rgba(60, 64, 67, 0.3), 0 1px 3px 1px rgba(60, 64, 67, 0.15);\n",
              "    fill: var(--button-hover-fill-color);\n",
              "  }\n",
              "\n",
              "  .colab-df-quickchart-complete:disabled,\n",
              "  .colab-df-quickchart-complete:disabled:hover {\n",
              "    background-color: var(--disabled-bg-color);\n",
              "    fill: var(--disabled-fill-color);\n",
              "    box-shadow: none;\n",
              "  }\n",
              "\n",
              "  .colab-df-spinner {\n",
              "    border: 2px solid var(--fill-color);\n",
              "    border-color: transparent;\n",
              "    border-bottom-color: var(--fill-color);\n",
              "    animation:\n",
              "      spin 1s steps(1) infinite;\n",
              "  }\n",
              "\n",
              "  @keyframes spin {\n",
              "    0% {\n",
              "      border-color: transparent;\n",
              "      border-bottom-color: var(--fill-color);\n",
              "      border-left-color: var(--fill-color);\n",
              "    }\n",
              "    20% {\n",
              "      border-color: transparent;\n",
              "      border-left-color: var(--fill-color);\n",
              "      border-top-color: var(--fill-color);\n",
              "    }\n",
              "    30% {\n",
              "      border-color: transparent;\n",
              "      border-left-color: var(--fill-color);\n",
              "      border-top-color: var(--fill-color);\n",
              "      border-right-color: var(--fill-color);\n",
              "    }\n",
              "    40% {\n",
              "      border-color: transparent;\n",
              "      border-right-color: var(--fill-color);\n",
              "      border-top-color: var(--fill-color);\n",
              "    }\n",
              "    60% {\n",
              "      border-color: transparent;\n",
              "      border-right-color: var(--fill-color);\n",
              "    }\n",
              "    80% {\n",
              "      border-color: transparent;\n",
              "      border-right-color: var(--fill-color);\n",
              "      border-bottom-color: var(--fill-color);\n",
              "    }\n",
              "    90% {\n",
              "      border-color: transparent;\n",
              "      border-bottom-color: var(--fill-color);\n",
              "    }\n",
              "  }\n",
              "</style>\n",
              "\n",
              "  <script>\n",
              "    async function quickchart(key) {\n",
              "      const quickchartButtonEl =\n",
              "        document.querySelector('#' + key + ' button');\n",
              "      quickchartButtonEl.disabled = true;  // To prevent multiple clicks.\n",
              "      quickchartButtonEl.classList.add('colab-df-spinner');\n",
              "      try {\n",
              "        const charts = await google.colab.kernel.invokeFunction(\n",
              "            'suggestCharts', [key], {});\n",
              "      } catch (error) {\n",
              "        console.error('Error during call to suggestCharts:', error);\n",
              "      }\n",
              "      quickchartButtonEl.classList.remove('colab-df-spinner');\n",
              "      quickchartButtonEl.classList.add('colab-df-quickchart-complete');\n",
              "    }\n",
              "    (() => {\n",
              "      let quickchartButtonEl =\n",
              "        document.querySelector('#df-8dc5e294-f913-44cb-83c4-8d7693f54e07 button');\n",
              "      quickchartButtonEl.style.display =\n",
              "        google.colab.kernel.accessAllowed ? 'block' : 'none';\n",
              "    })();\n",
              "  </script>\n",
              "</div>\n",
              "\n",
              "  <div id=\"id_e5eac032-7543-45d5-9cf1-df2080776346\">\n",
              "    <style>\n",
              "      .colab-df-generate {\n",
              "        background-color: #E8F0FE;\n",
              "        border: none;\n",
              "        border-radius: 50%;\n",
              "        cursor: pointer;\n",
              "        display: none;\n",
              "        fill: #1967D2;\n",
              "        height: 32px;\n",
              "        padding: 0 0 0 0;\n",
              "        width: 32px;\n",
              "      }\n",
              "\n",
              "      .colab-df-generate:hover {\n",
              "        background-color: #E2EBFA;\n",
              "        box-shadow: 0px 1px 2px rgba(60, 64, 67, 0.3), 0px 1px 3px 1px rgba(60, 64, 67, 0.15);\n",
              "        fill: #174EA6;\n",
              "      }\n",
              "\n",
              "      [theme=dark] .colab-df-generate {\n",
              "        background-color: #3B4455;\n",
              "        fill: #D2E3FC;\n",
              "      }\n",
              "\n",
              "      [theme=dark] .colab-df-generate:hover {\n",
              "        background-color: #434B5C;\n",
              "        box-shadow: 0px 1px 3px 1px rgba(0, 0, 0, 0.15);\n",
              "        filter: drop-shadow(0px 1px 2px rgba(0, 0, 0, 0.3));\n",
              "        fill: #FFFFFF;\n",
              "      }\n",
              "    </style>\n",
              "    <button class=\"colab-df-generate\" onclick=\"generateWithVariable('base')\"\n",
              "            title=\"Generate code using this dataframe.\"\n",
              "            style=\"display:none;\">\n",
              "\n",
              "  <svg xmlns=\"http://www.w3.org/2000/svg\" height=\"24px\"viewBox=\"0 0 24 24\"\n",
              "       width=\"24px\">\n",
              "    <path d=\"M7,19H8.4L18.45,9,17,7.55,7,17.6ZM5,21V16.75L18.45,3.32a2,2,0,0,1,2.83,0l1.4,1.43a1.91,1.91,0,0,1,.58,1.4,1.91,1.91,0,0,1-.58,1.4L9.25,21ZM18.45,9,17,7.55Zm-12,3A5.31,5.31,0,0,0,4.9,8.1,5.31,5.31,0,0,0,1,6.5,5.31,5.31,0,0,0,4.9,4.9,5.31,5.31,0,0,0,6.5,1,5.31,5.31,0,0,0,8.1,4.9,5.31,5.31,0,0,0,12,6.5,5.46,5.46,0,0,0,6.5,12Z\"/>\n",
              "  </svg>\n",
              "    </button>\n",
              "    <script>\n",
              "      (() => {\n",
              "      const buttonEl =\n",
              "        document.querySelector('#id_e5eac032-7543-45d5-9cf1-df2080776346 button.colab-df-generate');\n",
              "      buttonEl.style.display =\n",
              "        google.colab.kernel.accessAllowed ? 'block' : 'none';\n",
              "\n",
              "      buttonEl.onclick = () => {\n",
              "        google.colab.notebook.generateWithVariable('base');\n",
              "      }\n",
              "      })();\n",
              "    </script>\n",
              "  </div>\n",
              "\n",
              "    </div>\n",
              "  </div>\n"
            ],
            "application/vnd.google.colaboratory.intrinsic+json": {
              "type": "dataframe",
              "variable_name": "base",
              "summary": "{\n  \"name\": \"base\",\n  \"rows\": 358,\n  \"fields\": [\n    {\n      \"column\": \"pesquisador (aluno)\",\n      \"properties\": {\n        \"dtype\": \"category\",\n        \"num_unique_values\": 32,\n        \"samples\": [\n          \"Grasiely Lima Pastori Vieira\",\n          \"Hugo Henrique Corvo dos Santos\",\n          \"Natalia Alves Strassacapa Reis\"\n        ],\n        \"semantic_type\": \"\",\n        \"description\": \"\"\n      }\n    },\n    {\n      \"column\": \"pesq_id\",\n      \"properties\": {\n        \"dtype\": \"number\",\n        \"std\": 9.253602785670456,\n        \"min\": 1.0,\n        \"max\": 32.0,\n        \"num_unique_values\": 32,\n        \"samples\": [\n          30.0,\n          16.0,\n          25.0\n        ],\n        \"semantic_type\": \"\",\n        \"description\": \"\"\n      }\n    },\n    {\n      \"column\": \"cep\",\n      \"properties\": {\n        \"dtype\": \"string\",\n        \"num_unique_values\": 190,\n        \"samples\": [\n          \"90123456\",\n          \"40020010\",\n          \"4815010\"\n        ],\n        \"semantic_type\": \"\",\n        \"description\": \"\"\n      }\n    },\n    {\n      \"column\": \"idade\",\n      \"properties\": {\n        \"dtype\": \"number\",\n        \"std\": 15.855866977147066,\n        \"min\": 1.0,\n        \"max\": 86.0,\n        \"num_unique_values\": 68,\n        \"samples\": [\n          73.0,\n          70.0,\n          24.0\n        ],\n        \"semantic_type\": \"\",\n        \"description\": \"\"\n      }\n    },\n    {\n      \"column\": \"sexo\",\n      \"properties\": {\n        \"dtype\": \"category\",\n        \"num_unique_values\": 7,\n        \"samples\": [\n          \"M\",\n          \"F\",\n          \"H\"\n        ],\n        \"semantic_type\": \"\",\n        \"description\": \"\"\n      }\n    },\n    {\n      \"column\": \"peso\",\n      \"properties\": {\n        \"dtype\": \"number\",\n        \"std\": 21.826724886796807,\n        \"min\": 9.0,\n        \"max\": 190.0,\n        \"num_unique_values\": 83,\n        \"samples\": [\n          58.0,\n          67.0,\n          91.0\n        ],\n        \"semantic_type\": \"\",\n        \"description\": \"\"\n      }\n    },\n    {\n      \"column\": \"altura\",\n      \"properties\": {\n        \"dtype\": \"category\",\n        \"num_unique_values\": 71,\n        \"samples\": [\n          \"151\",\n          \"183\",\n          \"100\"\n        ],\n        \"semantic_type\": \"\",\n        \"description\": \"\"\n      }\n    },\n    {\n      \"column\": \"estado_civil\",\n      \"properties\": {\n        \"dtype\": \"number\",\n        \"std\": 1.0555105988524895,\n        \"min\": 1.0,\n        \"max\": 5.0,\n        \"num_unique_values\": 5,\n        \"samples\": [\n          2.0,\n          4.0,\n          3.0\n        ],\n        \"semantic_type\": \"\",\n        \"description\": \"\"\n      }\n    },\n    {\n      \"column\": \"escolaridade\",\n      \"properties\": {\n        \"dtype\": \"number\",\n        \"std\": 1.405967995960376,\n        \"min\": 1.0,\n        \"max\": 7.0,\n        \"num_unique_values\": 7,\n        \"samples\": [\n          5.0,\n          4.0,\n          6.0\n        ],\n        \"semantic_type\": \"\",\n        \"description\": \"\"\n      }\n    },\n    {\n      \"column\": \"consumo_alcool\",\n      \"properties\": {\n        \"dtype\": \"number\",\n        \"std\": 1.5937126085232414,\n        \"min\": 1.0,\n        \"max\": 6.0,\n        \"num_unique_values\": 6,\n        \"samples\": [\n          3.0,\n          4.0,\n          1.0\n        ],\n        \"semantic_type\": \"\",\n        \"description\": \"\"\n      }\n    },\n    {\n      \"column\": \"fumante\",\n      \"properties\": {\n        \"dtype\": \"number\",\n        \"std\": 1.0970075224354292,\n        \"min\": 1.0,\n        \"max\": 5.0,\n        \"num_unique_values\": 5,\n        \"samples\": [\n          4.0,\n          3.0,\n          2.0\n        ],\n        \"semantic_type\": \"\",\n        \"description\": \"\"\n      }\n    },\n    {\n      \"column\": \"exerc\\u00edcios\",\n      \"properties\": {\n        \"dtype\": \"number\",\n        \"std\": 1.1327715432099714,\n        \"min\": 1.0,\n        \"max\": 6.0,\n        \"num_unique_values\": 6,\n        \"samples\": [\n          3.0,\n          1.0,\n          6.0\n        ],\n        \"semantic_type\": \"\",\n        \"description\": \"\"\n      }\n    },\n    {\n      \"column\": \"dieta\",\n      \"properties\": {\n        \"dtype\": \"number\",\n        \"std\": 1.1367072438395085,\n        \"min\": 1.0,\n        \"max\": 4.0,\n        \"num_unique_values\": 4,\n        \"samples\": [\n          4.0,\n          3.0,\n          1.0\n        ],\n        \"semantic_type\": \"\",\n        \"description\": \"\"\n      }\n    }\n  ]\n}"
            }
          },
          "metadata": {},
          "execution_count": 15
        }
      ]
    },
    {
      "cell_type": "code",
      "source": [
        "base.isnull().sum()"
      ],
      "metadata": {
        "colab": {
          "base_uri": "https://localhost:8080/",
          "height": 492
        },
        "id": "s8PWFfK2dj5J",
        "outputId": "ec2b52fc-1d6b-4f5e-9b46-4dd945d98a8a"
      },
      "execution_count": 19,
      "outputs": [
        {
          "output_type": "execute_result",
          "data": {
            "text/plain": [
              "pesquisador (aluno)    0\n",
              "pesq_id                0\n",
              "cep                    0\n",
              "idade                  0\n",
              "sexo                   0\n",
              "peso                   0\n",
              "altura                 0\n",
              "estado_civil           0\n",
              "escolaridade           0\n",
              "consumo_alcool         0\n",
              "fumante                0\n",
              "exercícios             0\n",
              "dieta                  0\n",
              "dtype: int64"
            ],
            "text/html": [
              "<div>\n",
              "<style scoped>\n",
              "    .dataframe tbody tr th:only-of-type {\n",
              "        vertical-align: middle;\n",
              "    }\n",
              "\n",
              "    .dataframe tbody tr th {\n",
              "        vertical-align: top;\n",
              "    }\n",
              "\n",
              "    .dataframe thead th {\n",
              "        text-align: right;\n",
              "    }\n",
              "</style>\n",
              "<table border=\"1\" class=\"dataframe\">\n",
              "  <thead>\n",
              "    <tr style=\"text-align: right;\">\n",
              "      <th></th>\n",
              "      <th>0</th>\n",
              "    </tr>\n",
              "  </thead>\n",
              "  <tbody>\n",
              "    <tr>\n",
              "      <th>pesquisador (aluno)</th>\n",
              "      <td>0</td>\n",
              "    </tr>\n",
              "    <tr>\n",
              "      <th>pesq_id</th>\n",
              "      <td>0</td>\n",
              "    </tr>\n",
              "    <tr>\n",
              "      <th>cep</th>\n",
              "      <td>0</td>\n",
              "    </tr>\n",
              "    <tr>\n",
              "      <th>idade</th>\n",
              "      <td>0</td>\n",
              "    </tr>\n",
              "    <tr>\n",
              "      <th>sexo</th>\n",
              "      <td>0</td>\n",
              "    </tr>\n",
              "    <tr>\n",
              "      <th>peso</th>\n",
              "      <td>0</td>\n",
              "    </tr>\n",
              "    <tr>\n",
              "      <th>altura</th>\n",
              "      <td>0</td>\n",
              "    </tr>\n",
              "    <tr>\n",
              "      <th>estado_civil</th>\n",
              "      <td>0</td>\n",
              "    </tr>\n",
              "    <tr>\n",
              "      <th>escolaridade</th>\n",
              "      <td>0</td>\n",
              "    </tr>\n",
              "    <tr>\n",
              "      <th>consumo_alcool</th>\n",
              "      <td>0</td>\n",
              "    </tr>\n",
              "    <tr>\n",
              "      <th>fumante</th>\n",
              "      <td>0</td>\n",
              "    </tr>\n",
              "    <tr>\n",
              "      <th>exercícios</th>\n",
              "      <td>0</td>\n",
              "    </tr>\n",
              "    <tr>\n",
              "      <th>dieta</th>\n",
              "      <td>0</td>\n",
              "    </tr>\n",
              "  </tbody>\n",
              "</table>\n",
              "</div><br><label><b>dtype:</b> int64</label>"
            ]
          },
          "metadata": {},
          "execution_count": 19
        }
      ]
    },
    {
      "cell_type": "code",
      "source": [
        "#3- Formatar campo Dieta Nulo id: 1\n",
        "base.loc[base[\"dieta\"].isnull(), \"dieta\"] = 1\n",
        "print(base)"
      ],
      "metadata": {
        "colab": {
          "base_uri": "https://localhost:8080/"
        },
        "id": "JlzTuBPXd61b",
        "outputId": "9fa34f86-4639-48eb-fd4e-24e63f2c5082"
      },
      "execution_count": 20,
      "outputs": [
        {
          "output_type": "stream",
          "name": "stdout",
          "text": [
            "           pesquisador (aluno)  pesq_id      cep  idade sexo   peso altura  \\\n",
            "0    Murilo Santone de Menezes      1.0  3479030   26.0    M   67.0    183   \n",
            "1    Murilo Santone de Menezes      1.0  3479030   42.0    F   65.0    173   \n",
            "2    Murilo Santone de Menezes      1.0  3479030   61.0    M   67.0    178   \n",
            "3    Murilo Santone de Menezes      1.0  3479030   86.0    F   60.0    165   \n",
            "4    Murilo Santone de Menezes      1.0  3479030   24.0    F   70.0    170   \n",
            "..                         ...      ...      ...    ...  ...    ...    ...   \n",
            "353   Ryan de Oliveira Queiroz     32.0  2460000   58.0    F   59.8    182   \n",
            "354   Ryan de Oliveira Queiroz     32.0  2238130   78.0    F   97.8    173   \n",
            "355   Ryan de Oliveira Queiroz     32.0  2238130   36.0    F  107.8    156   \n",
            "356   Ryan de Oliveira Queiroz     32.0  2543000   35.0    M   56.4    176   \n",
            "357   Ryan de Oliveira Queiroz     32.0  2543000   77.0    F   79.1    176   \n",
            "\n",
            "     estado_civil  escolaridade  consumo_alcool  fumante  exercícios  dieta  \n",
            "0             1.0           5.0             3.0      1.0         3.0    1.0  \n",
            "1             2.0           4.0             4.0      4.0         1.0    1.0  \n",
            "2             2.0           1.0             3.0      4.0         4.0    1.0  \n",
            "3             3.0           1.0             6.0      4.0         4.0    1.0  \n",
            "4             1.0           2.0             2.0      2.0         4.0    1.0  \n",
            "..            ...           ...             ...      ...         ...    ...  \n",
            "353           1.0           7.0             5.0      2.0         3.0    4.0  \n",
            "354           4.0           3.0             2.0      3.0         4.0    3.0  \n",
            "355           4.0           1.0             1.0      1.0         2.0    4.0  \n",
            "356           3.0           7.0             4.0      2.0         1.0    2.0  \n",
            "357           1.0           3.0             4.0      4.0         1.0    3.0  \n",
            "\n",
            "[358 rows x 13 columns]\n"
          ]
        }
      ]
    },
    {
      "cell_type": "code",
      "source": [
        "#Fazendo a prova real\n",
        "base.isnull().sum()"
      ],
      "metadata": {
        "colab": {
          "base_uri": "https://localhost:8080/",
          "height": 492
        },
        "id": "LbnxgW5yj0M3",
        "outputId": "bf752d0b-d4e4-457c-aa94-42aabf8c0f74"
      },
      "execution_count": 21,
      "outputs": [
        {
          "output_type": "execute_result",
          "data": {
            "text/plain": [
              "pesquisador (aluno)    0\n",
              "pesq_id                0\n",
              "cep                    0\n",
              "idade                  0\n",
              "sexo                   0\n",
              "peso                   0\n",
              "altura                 0\n",
              "estado_civil           0\n",
              "escolaridade           0\n",
              "consumo_alcool         0\n",
              "fumante                0\n",
              "exercícios             0\n",
              "dieta                  0\n",
              "dtype: int64"
            ],
            "text/html": [
              "<div>\n",
              "<style scoped>\n",
              "    .dataframe tbody tr th:only-of-type {\n",
              "        vertical-align: middle;\n",
              "    }\n",
              "\n",
              "    .dataframe tbody tr th {\n",
              "        vertical-align: top;\n",
              "    }\n",
              "\n",
              "    .dataframe thead th {\n",
              "        text-align: right;\n",
              "    }\n",
              "</style>\n",
              "<table border=\"1\" class=\"dataframe\">\n",
              "  <thead>\n",
              "    <tr style=\"text-align: right;\">\n",
              "      <th></th>\n",
              "      <th>0</th>\n",
              "    </tr>\n",
              "  </thead>\n",
              "  <tbody>\n",
              "    <tr>\n",
              "      <th>pesquisador (aluno)</th>\n",
              "      <td>0</td>\n",
              "    </tr>\n",
              "    <tr>\n",
              "      <th>pesq_id</th>\n",
              "      <td>0</td>\n",
              "    </tr>\n",
              "    <tr>\n",
              "      <th>cep</th>\n",
              "      <td>0</td>\n",
              "    </tr>\n",
              "    <tr>\n",
              "      <th>idade</th>\n",
              "      <td>0</td>\n",
              "    </tr>\n",
              "    <tr>\n",
              "      <th>sexo</th>\n",
              "      <td>0</td>\n",
              "    </tr>\n",
              "    <tr>\n",
              "      <th>peso</th>\n",
              "      <td>0</td>\n",
              "    </tr>\n",
              "    <tr>\n",
              "      <th>altura</th>\n",
              "      <td>0</td>\n",
              "    </tr>\n",
              "    <tr>\n",
              "      <th>estado_civil</th>\n",
              "      <td>0</td>\n",
              "    </tr>\n",
              "    <tr>\n",
              "      <th>escolaridade</th>\n",
              "      <td>0</td>\n",
              "    </tr>\n",
              "    <tr>\n",
              "      <th>consumo_alcool</th>\n",
              "      <td>0</td>\n",
              "    </tr>\n",
              "    <tr>\n",
              "      <th>fumante</th>\n",
              "      <td>0</td>\n",
              "    </tr>\n",
              "    <tr>\n",
              "      <th>exercícios</th>\n",
              "      <td>0</td>\n",
              "    </tr>\n",
              "    <tr>\n",
              "      <th>dieta</th>\n",
              "      <td>0</td>\n",
              "    </tr>\n",
              "  </tbody>\n",
              "</table>\n",
              "</div><br><label><b>dtype:</b> int64</label>"
            ]
          },
          "metadata": {},
          "execution_count": 21
        }
      ]
    },
    {
      "cell_type": "markdown",
      "source": [
        "### 2° Analisando e tratando campo CEP"
      ],
      "metadata": {
        "id": "uCQrCIFjLvVw"
      }
    },
    {
      "cell_type": "code",
      "source": [
        "#4- Analisando o campo CEP\n",
        "print(base[\"cep\"].tolist())"
      ],
      "metadata": {
        "colab": {
          "base_uri": "https://localhost:8080/"
        },
        "id": "VC3BoJ6tiX0V",
        "outputId": "04294f70-abbb-4fbd-b2a4-7f8248422ef8"
      },
      "execution_count": 22,
      "outputs": [
        {
          "output_type": "stream",
          "name": "stdout",
          "text": [
            "['3479030', '3479030', '3479030', '3479030', '3479030', '2266000', '6020190', '9330080', '3150020', '5767001', '2678000', '2678000', '2678000', '2678000', '2842120', '9450000', '9450000', '9450000', '9450000', '9450000', '8280390', '23915060', '80020929', '74484090', '58103294', '8210100', '57302620', '88371457', '97509386', '60355010', '6765000', '6755260', '4842350', '5765220', '4069000', '6765000', '5756260', '6765000', '2712070', '6765000', '4546060', '2066014', '1548020', '3534080', '5360130', '49480000', '49480000', '49480000', '49480000', '49480000', '49480000', '49480000', '6931870', '6931870', '6931870', '12345678', '98765432', '54321987', '67890123', '13579246', '24680135', '13524680', '97531864', '86420975', '12468357', '1227000', '1227000', '3170500', '8070195', '3813000', '3673010', '13566533', '3690000', '3646000', '8150545', '8070200', '3118040', '74605110', '3044000', '8011300', '23525257', '44430116', '3141080', '1227000', '3877200', '3814000', '2251000', '8320451', '8021580', '8121660', '3959030', '9841270', '8330170', '9250490', '3944050', '9210100', '9210050', '6445575', '25530580', '9241110', '99070060', '8160015', '8471740', '1153040', '65913450', '8412000', '8151260', '8151290', '8151000', '8151000', '8151000', '8151161', '8151110', '8150450', '8151161', '01018-020', '01512-020', '02044-050', '03050-000', '04080-002', '05012-040', '06023-001', '07083-060', '08090-010', '09090-100', '03912-010', '03912-010', '03912-010', '03912-010', '03478-007', '03478-007', '03478-001', '03905-040', '03905-040', '03388-080', '06325-010', '06325-010', '06325-010', '06325-010', '06325-010', '06325-010', '60694-170', '60694-170', '05010-040', '05010-040', '06233-030', '06233-030', '06029-900', '6029902', '6029902', '06124-010', '06124-010', '06124-010', '06283-160', '06283-160', '4815010', '4820190', '4823200', '4810240', '4813070', '4811120', '4824000', '4812000', '4822090', '4825110', '9271400', '9601000', '9060650', '9290550', '9726200', '9895000', '9571000', '9530000', '9920100', '9990050', '7500000', '7500000', '7500000', '7500000', '7500000', '7500000', '7500000', '7500000', '7500000', '7500000', '6843260', '6887100', '6846160', '6843260', '6843260', '6887100', '6887100', '6846160', '6846160', '6846160', '07074-190', '07074-190', '07074-190', '07074-190', '07074-190', '07074-190', '07074-190', '07074-190', '07074-190', '07074-190', '4830310', '4830310', '4830310', '4830310', '4830310', '4830310', '4843190', '4843190', '4843190', '4843190', '9241480', '9241480', '9241480', '9241480', '9241480', '9241480', '9241480', '9241480', '9241480', '9241480', '9241480', '3515110', '3515110', '3515110', '3515110', '3515110', '3515110', '3515110', '3515110', '3515110', '3515110', '3515110', '9725160', '9725160', '6730000', '6730000', '6730000', '6730000', '6730000', '6730000', '6730000', '6730000', '3342000', '3342000', '3342000', '3325000', '3325000', '3325000', '3316000', '3316000', '3316000', '3316000', '02853040', '02853040', '02853040', '02853040', '02853040', '02853040', '02853040', '02853040', '02853040', '02853040', '03188040', '03188040', '03188040', '03188040', '02028000', '04532002', '04532002', '04532002', '03059050', '03058040', '09175-020', '09175-020', '09175-020', '09175-020', '09725-160', '09725-160', '09910-020', '09910-020', '09725-000', '09725-000', '5606010', '5606010', '5606010', '5606010', '5606010', '5606010', '5606010', '5606010', '5606010', '5606010', '5606010', '11045003', '11045003', '11045003', '11045130', '11045130', '11040000', '11045130', '11472100', '11472100', '11472100', '1510000', '1510000', '6856790', '6856790', '6856790', '6856570', '6856570', '6856570', '1505000', '1505000', '7080020', '7080020', '8070090', '8070090', '8161240', '8161240', '8061220', '8061220', '8070080', '8070080', '12345678', '23456789', '34567890', '45678901', '56789012', '67890123', '78901234', '89012345', '90123456', '1234567', '1001000', '20040000', '30130100', '40020010', '50030230', '60060130', '70040020', '80010100', '90030080', '70750300', '2238130', '2543000', '2543000', '2460000', '2460000', '2460000', '2238130', '2238130', '2543000', '2543000']\n"
          ]
        }
      ]
    },
    {
      "cell_type": "code",
      "source": [
        "#4- Formatar o campo de CEP - Removi o - da coluna\n",
        "base['cep'] = base['cep'].str.replace('-', '', regex=False)\n",
        "print(base[\"cep\"].tolist())"
      ],
      "metadata": {
        "id": "3uwo408g_i6y",
        "colab": {
          "base_uri": "https://localhost:8080/"
        },
        "outputId": "0b452488-8b72-4919-8761-55b46d19565f"
      },
      "execution_count": 23,
      "outputs": [
        {
          "output_type": "stream",
          "name": "stdout",
          "text": [
            "['3479030', '3479030', '3479030', '3479030', '3479030', '2266000', '6020190', '9330080', '3150020', '5767001', '2678000', '2678000', '2678000', '2678000', '2842120', '9450000', '9450000', '9450000', '9450000', '9450000', '8280390', '23915060', '80020929', '74484090', '58103294', '8210100', '57302620', '88371457', '97509386', '60355010', '6765000', '6755260', '4842350', '5765220', '4069000', '6765000', '5756260', '6765000', '2712070', '6765000', '4546060', '2066014', '1548020', '3534080', '5360130', '49480000', '49480000', '49480000', '49480000', '49480000', '49480000', '49480000', '6931870', '6931870', '6931870', '12345678', '98765432', '54321987', '67890123', '13579246', '24680135', '13524680', '97531864', '86420975', '12468357', '1227000', '1227000', '3170500', '8070195', '3813000', '3673010', '13566533', '3690000', '3646000', '8150545', '8070200', '3118040', '74605110', '3044000', '8011300', '23525257', '44430116', '3141080', '1227000', '3877200', '3814000', '2251000', '8320451', '8021580', '8121660', '3959030', '9841270', '8330170', '9250490', '3944050', '9210100', '9210050', '6445575', '25530580', '9241110', '99070060', '8160015', '8471740', '1153040', '65913450', '8412000', '8151260', '8151290', '8151000', '8151000', '8151000', '8151161', '8151110', '8150450', '8151161', '01018020', '01512020', '02044050', '03050000', '04080002', '05012040', '06023001', '07083060', '08090010', '09090100', '03912010', '03912010', '03912010', '03912010', '03478007', '03478007', '03478001', '03905040', '03905040', '03388080', '06325010', '06325010', '06325010', '06325010', '06325010', '06325010', '60694170', '60694170', '05010040', '05010040', '06233030', '06233030', '06029900', '6029902', '6029902', '06124010', '06124010', '06124010', '06283160', '06283160', '4815010', '4820190', '4823200', '4810240', '4813070', '4811120', '4824000', '4812000', '4822090', '4825110', '9271400', '9601000', '9060650', '9290550', '9726200', '9895000', '9571000', '9530000', '9920100', '9990050', '7500000', '7500000', '7500000', '7500000', '7500000', '7500000', '7500000', '7500000', '7500000', '7500000', '6843260', '6887100', '6846160', '6843260', '6843260', '6887100', '6887100', '6846160', '6846160', '6846160', '07074190', '07074190', '07074190', '07074190', '07074190', '07074190', '07074190', '07074190', '07074190', '07074190', '4830310', '4830310', '4830310', '4830310', '4830310', '4830310', '4843190', '4843190', '4843190', '4843190', '9241480', '9241480', '9241480', '9241480', '9241480', '9241480', '9241480', '9241480', '9241480', '9241480', '9241480', '3515110', '3515110', '3515110', '3515110', '3515110', '3515110', '3515110', '3515110', '3515110', '3515110', '3515110', '9725160', '9725160', '6730000', '6730000', '6730000', '6730000', '6730000', '6730000', '6730000', '6730000', '3342000', '3342000', '3342000', '3325000', '3325000', '3325000', '3316000', '3316000', '3316000', '3316000', '02853040', '02853040', '02853040', '02853040', '02853040', '02853040', '02853040', '02853040', '02853040', '02853040', '03188040', '03188040', '03188040', '03188040', '02028000', '04532002', '04532002', '04532002', '03059050', '03058040', '09175020', '09175020', '09175020', '09175020', '09725160', '09725160', '09910020', '09910020', '09725000', '09725000', '5606010', '5606010', '5606010', '5606010', '5606010', '5606010', '5606010', '5606010', '5606010', '5606010', '5606010', '11045003', '11045003', '11045003', '11045130', '11045130', '11040000', '11045130', '11472100', '11472100', '11472100', '1510000', '1510000', '6856790', '6856790', '6856790', '6856570', '6856570', '6856570', '1505000', '1505000', '7080020', '7080020', '8070090', '8070090', '8161240', '8161240', '8061220', '8061220', '8070080', '8070080', '12345678', '23456789', '34567890', '45678901', '56789012', '67890123', '78901234', '89012345', '90123456', '1234567', '1001000', '20040000', '30130100', '40020010', '50030230', '60060130', '70040020', '80010100', '90030080', '70750300', '2238130', '2543000', '2543000', '2460000', '2460000', '2460000', '2238130', '2238130', '2543000', '2543000']\n"
          ]
        }
      ]
    },
    {
      "cell_type": "code",
      "source": [
        "#Prova real da remoção\n",
        "linha_cep = base.loc[116]\n",
        "\n",
        "print(linha_cep)"
      ],
      "metadata": {
        "colab": {
          "base_uri": "https://localhost:8080/"
        },
        "id": "xguJwWtxJfk4",
        "outputId": "b9fb9538-81d9-4920-e931-4e5cf1205fdf"
      },
      "execution_count": 24,
      "outputs": [
        {
          "output_type": "stream",
          "name": "stdout",
          "text": [
            "pesquisador (aluno)    Bruno Britto dos Santos\n",
            "pesq_id                                    9.0\n",
            "cep                                   01512020\n",
            "idade                                     34.0\n",
            "sexo                                         F\n",
            "peso                                      60.0\n",
            "altura                                     162\n",
            "estado_civil                               2.0\n",
            "escolaridade                               4.0\n",
            "consumo_alcool                             4.0\n",
            "fumante                                    4.0\n",
            "exercícios                                 1.0\n",
            "dieta                                      2.0\n",
            "Name: 116, dtype: object\n"
          ]
        }
      ]
    },
    {
      "cell_type": "markdown",
      "source": [
        "### 3° Analisando e tratando campo sexo"
      ],
      "metadata": {
        "id": "A42c39LfMCB2"
      }
    },
    {
      "cell_type": "code",
      "source": [
        "#5- Analisando o campo sexo\n",
        "df = pd.DataFrame(base)\n",
        "contagem_sexo = df[\"sexo\"].value_counts()\n",
        "print(contagem_sexo)"
      ],
      "metadata": {
        "colab": {
          "base_uri": "https://localhost:8080/"
        },
        "id": "sGv_OYVnlhQ5",
        "outputId": "700fe52a-8542-45a6-beb5-9f3f0d10ddf4"
      },
      "execution_count": 25,
      "outputs": [
        {
          "output_type": "stream",
          "name": "stdout",
          "text": [
            "sexo\n",
            "M                180\n",
            "F                164\n",
            "            F      5\n",
            "H                  4\n",
            "            M      3\n",
            "           M       1\n",
            "G                  1\n",
            "Name: count, dtype: int64\n"
          ]
        }
      ]
    },
    {
      "cell_type": "code",
      "source": [
        "# Localizar linhas com valores \"H\" ou \"G\" na coluna \"Sexo\"\n",
        "linhas_inconsistentes = df[df[\"sexo\"].isin([\"H\", \"G\"])]\n",
        "print(linhas_inconsistentes)"
      ],
      "metadata": {
        "colab": {
          "base_uri": "https://localhost:8080/"
        },
        "id": "OkiUT9wumssu",
        "outputId": "5290ddda-ee61-4d83-d66a-45455e99e836"
      },
      "execution_count": 26,
      "outputs": [
        {
          "output_type": "stream",
          "name": "stdout",
          "text": [
            "                pesquisador (aluno)  pesq_id       cep  idade sexo   peso  \\\n",
            "188  Hugo Henrique Corvo dos Santos     16.0   6843260   29.0    H  190.0   \n",
            "189  Hugo Henrique Corvo dos Santos     16.0   6843260   40.0    H  180.0   \n",
            "191  Hugo Henrique Corvo dos Santos     16.0   6887100   80.0    H  150.0   \n",
            "193  Hugo Henrique Corvo dos Santos     16.0   6846160   30.0    H  130.0   \n",
            "335    Grasiely Lima Pastori Vieira     30.0  89012345   23.0    G   58.0   \n",
            "\n",
            "    altura  estado_civil  escolaridade  consumo_alcool  fumante  exercícios  \\\n",
            "188    120           2.0           5.0             4.0      4.0         1.0   \n",
            "189    110           3.0           4.0             4.0      4.0         2.0   \n",
            "191     90           3.0           4.0             2.0      1.0         4.0   \n",
            "193    100           2.0           4.0             2.0      1.0         4.0   \n",
            "335    158           5.0           4.0             2.0      1.0         2.0   \n",
            "\n",
            "     dieta  \n",
            "188    1.0  \n",
            "189    2.0  \n",
            "191    1.0  \n",
            "193    1.0  \n",
            "335    2.0  \n"
          ]
        }
      ]
    },
    {
      "cell_type": "code",
      "source": [
        "#5- Formatar campo sexo - Pesquisador Hugo subistituir H(Hoomem) por M(Masculino)\n",
        "base['sexo'] = base['sexo'].str.replace('H', 'M', regex=False)"
      ],
      "metadata": {
        "id": "8vwlxyjWKZjY"
      },
      "execution_count": 27,
      "outputs": []
    },
    {
      "cell_type": "code",
      "source": [
        "df = pd.DataFrame(base)\n",
        "contagem_sexo = df[\"sexo\"].value_counts()\n",
        "print(contagem_sexo)"
      ],
      "metadata": {
        "colab": {
          "base_uri": "https://localhost:8080/"
        },
        "id": "vG-yQISmqT1L",
        "outputId": "9d0d14c6-7e88-4706-f80a-de894234e44d"
      },
      "execution_count": 28,
      "outputs": [
        {
          "output_type": "stream",
          "name": "stdout",
          "text": [
            "sexo\n",
            "M                184\n",
            "F                164\n",
            "            F      5\n",
            "            M      3\n",
            "           M       1\n",
            "G                  1\n",
            "Name: count, dtype: int64\n"
          ]
        }
      ]
    },
    {
      "cell_type": "code",
      "source": [
        "#5- Formatar o campo sexo - Pesquisadora Grasiely substituir G por M\n",
        "base['sexo'] = base['sexo'].str.replace('G', 'M', regex=False)"
      ],
      "metadata": {
        "id": "fwvLL1ygMVyS"
      },
      "execution_count": 32,
      "outputs": []
    },
    {
      "cell_type": "code",
      "source": [
        "df = pd.DataFrame(base)\n",
        "contagem_sexo = df[\"sexo\"].value_counts()\n",
        "print(contagem_sexo)"
      ],
      "metadata": {
        "colab": {
          "base_uri": "https://localhost:8080/"
        },
        "id": "1-iutFJOqm7h",
        "outputId": "c399dce4-b31a-4262-b528-5b4135d709d3"
      },
      "execution_count": 35,
      "outputs": [
        {
          "output_type": "stream",
          "name": "stdout",
          "text": [
            "sexo\n",
            "M                185\n",
            "F                164\n",
            "            F      5\n",
            "            M      3\n",
            "           M       1\n",
            "Name: count, dtype: int64\n"
          ]
        }
      ]
    },
    {
      "cell_type": "code",
      "source": [
        "base['sexo']  = base[\"sexo\"].str.strip()"
      ],
      "metadata": {
        "id": "q7ZHjtu4vwWu"
      },
      "execution_count": 36,
      "outputs": []
    },
    {
      "cell_type": "code",
      "source": [
        "#Prova real da mudança\n",
        "base['sexo'].value_counts()"
      ],
      "metadata": {
        "colab": {
          "base_uri": "https://localhost:8080/",
          "height": 178
        },
        "id": "tXvjWBDJwc4q",
        "outputId": "0d7ae1be-3fef-4a5e-e581-a08bff17f1e4"
      },
      "execution_count": 40,
      "outputs": [
        {
          "output_type": "execute_result",
          "data": {
            "text/plain": [
              "sexo\n",
              "M    189\n",
              "F    169\n",
              "Name: count, dtype: int64"
            ],
            "text/html": [
              "<div>\n",
              "<style scoped>\n",
              "    .dataframe tbody tr th:only-of-type {\n",
              "        vertical-align: middle;\n",
              "    }\n",
              "\n",
              "    .dataframe tbody tr th {\n",
              "        vertical-align: top;\n",
              "    }\n",
              "\n",
              "    .dataframe thead th {\n",
              "        text-align: right;\n",
              "    }\n",
              "</style>\n",
              "<table border=\"1\" class=\"dataframe\">\n",
              "  <thead>\n",
              "    <tr style=\"text-align: right;\">\n",
              "      <th></th>\n",
              "      <th>count</th>\n",
              "    </tr>\n",
              "    <tr>\n",
              "      <th>sexo</th>\n",
              "      <th></th>\n",
              "    </tr>\n",
              "  </thead>\n",
              "  <tbody>\n",
              "    <tr>\n",
              "      <th>M</th>\n",
              "      <td>189</td>\n",
              "    </tr>\n",
              "    <tr>\n",
              "      <th>F</th>\n",
              "      <td>169</td>\n",
              "    </tr>\n",
              "  </tbody>\n",
              "</table>\n",
              "</div><br><label><b>dtype:</b> int64</label>"
            ]
          },
          "metadata": {},
          "execution_count": 40
        }
      ]
    },
    {
      "cell_type": "markdown",
      "source": [
        "### 4° Analisando e tratando campo Peso"
      ],
      "metadata": {
        "id": "VgUl93qbMoC6"
      }
    },
    {
      "cell_type": "code",
      "source": [
        "#6- Analisando o campo Peso\n",
        "base[\"peso\"].tolist()\n",
        "print(base[\"peso\"].tolist())"
      ],
      "metadata": {
        "colab": {
          "base_uri": "https://localhost:8080/"
        },
        "id": "c5u3hWQeMauh",
        "outputId": "fe5432b4-cc81-4fc5-831b-9d3e1f5f0e91"
      },
      "execution_count": 50,
      "outputs": [
        {
          "output_type": "stream",
          "name": "stdout",
          "text": [
            "[67.0, 65.0, 67.0, 60.0, 70.0, 80.0, 62.0, 55.0, 62.0, 67.0, 49.0, 70.0, 68.0, 60.0, 84.0, 99.0, 70.0, 80.0, 60.0, 65.0, 56.0, 60.0, 80.0, 55.0, 75.0, 69.0, 100.0, 84.0, 45.0, 70.0, 63.0, 69.0, 90.0, 73.0, 82.0, 75.0, 68.0, 74.0, 65.0, 48.0, 91.0, 70.0, 80.0, 66.0, 86.0, 80.0, 75.0, 71.0, 80.0, 62.0, 76.0, 90.0, 96.0, 92.0, 45.0, 75.0, 60.0, 82.0, 68.0, 85.0, 58.0, 90.0, 62.0, 78.0, 65.0, 57.0, 77.0, 85.0, 109.0, 120.0, 92.0, 84.0, 65.0, 68.0, 89.0, 46.0, 62.0, 63.0, 80.0, 90.0, 85.0, 70.0, 104.0, 66.0, 80.0, 67.0, 80.0, 64.0, 47.0, 102.0, 55.0, 107.0, 84.0, 95.0, 64.0, 63.0, 58.0, 64.0, 63.0, 57.0, 68.0, 84.0, 60.0, 59.0, 62.0, 65.0, 55.0, 67.0, 63.0, 89.0, 59.0, 89.0, 86.0, 60.0, 92.0, 72.0, 60.0, 85.0, 58.0, 90.0, 68.0, 95.0, 62.0, 77.0, 54.0, 41.0, 65.0, 74.0, 70.0, 90.0, 80.0, 99.0, 72.0, 180.0, 182.0, 78.0, 62.0, 90.0, 58.0, 72.0, 68.0, 83.0, 60.0, 88.0, 55.0, 75.0, 103.0, 90.0, 65.0, 55.0, 69.0, 97.0, 80.0, 58.0, 68.0, 58.0, 85.0, 65.0, 92.0, 70.0, 78.0, 60.0, 68.0, 73.0, 80.0, 84.0, 91.0, 105.0, 120.0, 75.0, 68.0, 82.0, 84.0, 90.0, 101.0, 75.0, 74.0, 63.0, 65.0, 110.0, 86.0, 91.0, 70.0, 64.0, 93.0, 110.0, 80.0, 170.0, 190.0, 180.0, 130.0, 150.0, 140.0, 130.0, 160.0, 70.0, 60.0, 80.0, 65.0, 78.0, 62.0, 90.0, 55.0, 85.0, 58.0, 39.0, 100.0, 68.0, 72.0, 65.0, 55.0, 47.0, 55.0, 72.0, 80.0, 70.0, 65.0, 80.0, 55.0, 90.0, 50.0, 85.0, 60.0, 77.0, 73.0, 81.0, 88.0, 102.0, 57.0, 66.0, 77.0, 79.0, 80.0, 83.0, 97.0, 99.0, 95.0, 104.0, 70.0, 60.0, 63.0, 98.0, 60.0, 80.0, 60.0, 20.0, 9.0, 68.0, 85.0, 75.0, 90.0, 60.0, 55.0, 92.0, 78.0, 88.0, 66.0, 90.0, 75.0, 60.0, 75.0, 115.0, 80.0, 65.0, 90.0, 90.0, 74.0, 130.0, 75.0, 65.0, 57.0, 120.0, 70.0, 60.0, 80.0, 100.0, 97.0, 62.0, 90.0, 65.0, 50.0, 70.0, 104.0, 55.0, 85.0, 70.0, 95.0, 98.0, 66.0, 60.0, 72.0, 74.0, 66.0, 80.0, 88.0, 104.0, 120.0, 75.0, 87.0, 76.0, 42.0, 82.0, 72.0, 89.0, 95.0, 98.0, 96.0, 82.0, 81.0, 78.0, 80.0, 76.0, 83.0, 73.0, 67.0, 97.0, 73.0, 62.0, 71.0, 58.0, 62.0, 84.0, 60.0, 60.0, 61.0, 83.0, 69.0, 71.0, 70.0, 60.0, 78.0, 55.0, 82.0, 64.0, 76.0, 58.0, 80.0, 65.0, 60.0, 82.0, 70.0, 95.0, 55.0, 78.0, 65.0, 88.0, 72.0, 91.0, 90.0, 103.1, 64.0, 108.5, 105.1, 59.8, 97.8, 107.8, 56.4, 79.1]\n"
          ]
        }
      ]
    },
    {
      "cell_type": "code",
      "source": [
        "# Verifica maior peso e menor peso\n",
        "maior_peso = base[\"peso\"].max()\n",
        "menor_peso = base[\"peso\"].min()\n",
        "\n",
        "moda_peso = base[\"peso\"].mode()[0]\n",
        "\n",
        "print(maior_peso)\n",
        "print(menor_peso)\n",
        "print(\"O valor mais frequente de peso é:\", moda_peso)"
      ],
      "metadata": {
        "colab": {
          "base_uri": "https://localhost:8080/"
        },
        "id": "yYtpDkAL7qkt",
        "outputId": "78a3a2e1-1c6b-4f01-b575-d0fdecb4cfde"
      },
      "execution_count": 90,
      "outputs": [
        {
          "output_type": "stream",
          "name": "stdout",
          "text": [
            "190.0\n",
            "9.0\n",
            "O valor mais frequente de peso é: 60.0\n"
          ]
        }
      ]
    },
    {
      "cell_type": "code",
      "source": [
        "moda_por_sexo = base.groupby('sexo')['peso'].apply(lambda x: x.mode()[0])\n",
        "print(moda_por_sexo)"
      ],
      "metadata": {
        "colab": {
          "base_uri": "https://localhost:8080/"
        },
        "id": "H4eyJlktN4bj",
        "outputId": "39027283-d8b2-4363-9ed8-42a9d96891dd"
      },
      "execution_count": 92,
      "outputs": [
        {
          "output_type": "stream",
          "name": "stdout",
          "text": [
            "sexo\n",
            "F    60.0\n",
            "M    80.0\n",
            "Name: peso, dtype: float64\n"
          ]
        }
      ]
    },
    {
      "cell_type": "code",
      "source": [
        "contagem_por_sexo = base.groupby('sexo')['peso'].value_counts()\n",
        "\n",
        "print(\"Contagem de pesos por sexo:\")\n",
        "print(contagem_por_sexo)"
      ],
      "metadata": {
        "colab": {
          "base_uri": "https://localhost:8080/"
        },
        "id": "Er5irC5ROBDj",
        "outputId": "c0660897-249a-438b-a58b-4a27eba11b54"
      },
      "execution_count": 94,
      "outputs": [
        {
          "output_type": "stream",
          "name": "stdout",
          "text": [
            "Contagem de pesos por sexo:\n",
            "sexo  peso \n",
            "F     60.0     19\n",
            "      65.0     15\n",
            "      55.0     10\n",
            "      68.0      9\n",
            "      58.0      8\n",
            "               ..\n",
            "M     150.0     1\n",
            "      160.0     1\n",
            "      170.0     1\n",
            "      182.0     1\n",
            "      190.0     1\n",
            "Name: count, Length: 115, dtype: int64\n"
          ]
        }
      ]
    },
    {
      "cell_type": "code",
      "source": [
        "#Analisando se são outilier\n",
        "\n",
        "df = pd.DataFrame(base)\n",
        "linha_maior_peso = df.loc[df[\"peso\"].idxmax()]\n",
        "linha_menor_peso = df.loc[df[\"peso\"].idxmin()]\n",
        "\n",
        "df_extremos = pd.DataFrame([linha_maior_peso, linha_menor_peso])\n",
        "print(df_extremos)"
      ],
      "metadata": {
        "colab": {
          "base_uri": "https://localhost:8080/"
        },
        "id": "hQqiqYjS7qXk",
        "outputId": "9eb1764b-e811-4bbc-9951-02682d23ecf9"
      },
      "execution_count": 66,
      "outputs": [
        {
          "output_type": "stream",
          "name": "stdout",
          "text": [
            "                pesquisador (aluno)  pesq_id      cep  idade sexo   peso  \\\n",
            "188  Hugo Henrique Corvo dos Santos     16.0  6843260   29.0    M  190.0   \n",
            "246             Carlos Augusto Reis     21.0  6730000    1.0    F    9.0   \n",
            "\n",
            "    altura  estado_civil  escolaridade  consumo_alcool  fumante  exercícios  \\\n",
            "188    120           2.0           5.0             4.0      4.0         1.0   \n",
            "246     80           1.0           1.0             6.0      4.0         4.0   \n",
            "\n",
            "     dieta  \n",
            "188    1.0  \n",
            "246    1.0  \n"
          ]
        }
      ]
    },
    {
      "cell_type": "code",
      "source": [
        "from scipy.stats import zscore\n",
        "\n",
        "# Calcular o Z-Score\n",
        "df[\"Z_Score\"] = zscore(df[\"peso\"])\n",
        "\n",
        "# Identificar outliers\n",
        "outliers = df[abs(df[\"Z_Score\"]) > 2]\n",
        "print(\"Outliers com Z-Score:\")\n",
        "print(outliers)"
      ],
      "metadata": {
        "colab": {
          "base_uri": "https://localhost:8080/"
        },
        "id": "FHdFhVitFPNY",
        "outputId": "101da7cf-e419-449c-88fb-d5de3f638df6"
      },
      "execution_count": 72,
      "outputs": [
        {
          "output_type": "stream",
          "name": "stdout",
          "text": [
            "Outliers com Z-Score:\n",
            "                pesquisador (aluno)  pesq_id       cep  idade sexo   peso  \\\n",
            "133         Tatiana Araujo Domingos     10.0  03905040   37.0    M  180.0   \n",
            "134         Tatiana Araujo Domingos     10.0  03388080   47.0    M  182.0   \n",
            "187  Hugo Henrique Corvo dos Santos     16.0   6846160   29.0    M  170.0   \n",
            "188  Hugo Henrique Corvo dos Santos     16.0   6843260   29.0    M  190.0   \n",
            "189  Hugo Henrique Corvo dos Santos     16.0   6843260   40.0    M  180.0   \n",
            "190  Hugo Henrique Corvo dos Santos     16.0   6887100   70.0    M  130.0   \n",
            "191  Hugo Henrique Corvo dos Santos     16.0   6887100   80.0    M  150.0   \n",
            "192  Hugo Henrique Corvo dos Santos     16.0   6846160   40.0    M  140.0   \n",
            "193  Hugo Henrique Corvo dos Santos     16.0   6846160   30.0    M  130.0   \n",
            "194  Hugo Henrique Corvo dos Santos     16.0   6846160   80.0    M  160.0   \n",
            "245             Carlos Augusto Reis     21.0   6730000    4.0    F   20.0   \n",
            "246             Carlos Augusto Reis     21.0   6730000    1.0    F    9.0   \n",
            "267  Joao Pedro Hideki Araujo Araki     24.0  03188040   26.0    M  130.0   \n",
            "\n",
            "    altura  estado_civil  escolaridade  consumo_alcool  fumante  exercícios  \\\n",
            "133    105           2.0           4.0             3.0      4.0         4.0   \n",
            "134    130           2.0           2.0             2.0      4.0         4.0   \n",
            "187     70           2.0           5.0             6.0      4.0         2.0   \n",
            "188    120           2.0           5.0             4.0      4.0         1.0   \n",
            "189    110           3.0           4.0             4.0      4.0         2.0   \n",
            "190     80           3.0           4.0             3.0      1.0         4.0   \n",
            "191     90           3.0           4.0             2.0      1.0         4.0   \n",
            "192    100           3.0           4.0             3.0      1.0         4.0   \n",
            "193    100           2.0           4.0             2.0      1.0         4.0   \n",
            "194     60           1.0           4.0             3.0      1.0         5.0   \n",
            "245    101           1.0           1.0             6.0      4.0         4.0   \n",
            "246     80           1.0           1.0             6.0      4.0         4.0   \n",
            "267    173           1.0           4.0             3.0      2.0         1.0   \n",
            "\n",
            "     dieta   Z_Score  \n",
            "133    1.0  4.706034  \n",
            "134    1.0  4.797793  \n",
            "187    1.0  4.247239  \n",
            "188    1.0  5.164829  \n",
            "189    2.0  4.706034  \n",
            "190    1.0  2.412058  \n",
            "191    1.0  3.329648  \n",
            "192    1.0  2.870853  \n",
            "193    1.0  2.412058  \n",
            "194    1.0  3.788443  \n",
            "245    1.0 -2.634689  \n",
            "246    1.0 -3.139364  \n",
            "267    1.0  2.412058  \n"
          ]
        }
      ]
    },
    {
      "cell_type": "markdown",
      "source": [
        "#### PRECISMAOS VERIFICAR INFORMAR AQUI O QUE O HUGO FALOU"
      ],
      "metadata": {
        "id": "c9BYUaYv_Nqa"
      }
    },
    {
      "cell_type": "markdown",
      "source": [
        "### 5° Analisando e tratando o campo Altura"
      ],
      "metadata": {
        "id": "B3exKoa4M7hS"
      }
    },
    {
      "cell_type": "code",
      "source": [
        "#7- Analisando o campo altura\n",
        "base[\"altura\"].tolist()\n",
        "print(base[\"altura\"].tolist())"
      ],
      "metadata": {
        "colab": {
          "base_uri": "https://localhost:8080/"
        },
        "id": "io3F_s6I_IAu",
        "outputId": "981bb96d-ea2d-435d-9a3d-fb45a0e8295c"
      },
      "execution_count": 73,
      "outputs": [
        {
          "output_type": "stream",
          "name": "stdout",
          "text": [
            "['183', '173', '178', '165', '170', '170', '161', '173', '175', '161', '160', '170', '166', '156', '184', '177', '168', '175', '163', '154', '165', '160', '180', '175', '163', '184', '198', '175', '155', '180', '175', '152', '160', '167', '178', '185', '167', '163', '157', '151', '181', '171', '169', '169', '165', '180', '172', '179', '180', '160', '170', '175', '175', '183', '153', '175', '162', '180', '168', '178', '160', '182', '165', '176', '167', '159', '173', '185', '180', '185', '170', '178', '167', '164', '195', '159', '156', '160', '167', '168', '170', '175', '181', '161', '182', '167', '167', '158', '160', '184', '165', '175', '176', '166', '162', '183', '156', '165', '173', '176', '184', '176', '165', '178', '167', '183', '175', '175', '185', '179', '171', '181', '184', '172', '180', '175', '162', '180', '167', '170', '160', '178', '158', '172', '165', '151', '162', '178', '160', '181', '176', '194', '156', '105', '130', '180', '165', '175', '160', '178', '170', '182', '167', '175', '160', '160', '185', '170', '163', '159', '165', '186', '178', '160', '163', '162', '178', '170', '180', '160', '175', '165', '168', '158', '172', '173', '171', '174', '181', '174', '170', '181', '182', '172', '191', '173', '179', '165', '173', '191', '190', '179', '172', '170', '164', '150', '150', '70', '120', '110', '80', '90', '100', '100', '60', '175', '160', '180', '165', '172', '158', '185', '162', '178', '160', '1.32', '1,74', '1,5', '1,6', '1,65', '1,52', '1,47', '1,51', '1,84', '1,65', '173', '180', '155', '161', '172', '162', '163', '177', '174', '189', '190', '175', '190', '167', '155', '177', '168', '182', '175', '176', '184', '169', '178', '167', '153', '158', '176', '160', '174', '160', '101', '80', '165', '178', '172', '180', '158', '160', '175', '170', '182', '185', '174', '150', '150', '158', '180', '171', '171', '170', '168', '158', '173', '168', '160', '165', '178', '166', '150', '155', '173', '177', '160', '180', '165', '160', '167', '178', '168', '178', '172', '182', '170', '172', '167', '166', '170', '157', '173', '185', '180', '190', '171', '175', '166', '155', '150', '170', '162', '165', '195', '182', '167', '163', '172', '162', '182', '165', '178', '158', '172', '143', '162', '1.86', '1.65', '1.62', '1.86', '1.83', '1.70', '1.65', '1.73', '1.60', '1.63', '175', '160', '180', '165', '185', '162', '178', '158', '182', '164', '165', '175', '160', '180', '158', '172', '162', '185', '168', '178', '172', '157', '156', '186', '161', '182', '173', '156', '176', '176']\n"
          ]
        }
      ]
    },
    {
      "cell_type": "code",
      "source": [
        "#7- Primeiro vou tratar os valores que estão separados por , e subsituir para .\n",
        "#   Segundo na descrição dos atributos esse cmapos deveriam ser em centímetros então tudo que for metros vou substituri para centimetros\n",
        "\n",
        "# Convertendo para DataFrame\n",
        "df = pd.DataFrame(base, columns=[\"altura\"])\n",
        "\n",
        "# Função para limpar e padronizar os dados de altura\n",
        "def tratar_altura(valor):\n",
        "    if isinstance(valor, str):\n",
        "        valor = valor.replace(',', '.')\n",
        "    try:\n",
        "        altura = float(valor)\n",
        "        if altura < 3:  # valores em metros geralmente são menores que 3\n",
        "            altura = altura * 100\n",
        "        return altura\n",
        "    except ValueError:\n",
        "        return None  # Caso o valor seja inválido (não convertido)\n",
        "\n",
        "# Aplicar a função de tratamento\n",
        "base[\"altura\"] = df[\"altura\"].apply(tratar_altura)\n",
        "\n",
        "# Remover valores inválidos (caso existam)\n",
        "df = df.dropna(subset=[\"altura\"])\n",
        "\n",
        "# Exibir o DataFrame tratado\n",
        "print(df[\"altura\"].head())\n"
      ],
      "metadata": {
        "colab": {
          "base_uri": "https://localhost:8080/"
        },
        "id": "KDKzWcfo_H4d",
        "outputId": "a9cbc3cf-010d-40d4-ddf5-d25c30cc2ad5"
      },
      "execution_count": 78,
      "outputs": [
        {
          "output_type": "stream",
          "name": "stdout",
          "text": [
            "0    183\n",
            "1    173\n",
            "2    178\n",
            "3    165\n",
            "4    170\n",
            "Name: altura, dtype: object\n"
          ]
        }
      ]
    },
    {
      "cell_type": "code",
      "source": [
        "base[\"altura\"].tolist()\n",
        "print(base[\"altura\"].tolist())"
      ],
      "metadata": {
        "colab": {
          "base_uri": "https://localhost:8080/"
        },
        "id": "Tuu8gFW__HvV",
        "outputId": "caec9974-945f-4098-bbcc-8fcab2f9e988"
      },
      "execution_count": 79,
      "outputs": [
        {
          "output_type": "stream",
          "name": "stdout",
          "text": [
            "[183.0, 173.0, 178.0, 165.0, 170.0, 170.0, 161.0, 173.0, 175.0, 161.0, 160.0, 170.0, 166.0, 156.0, 184.0, 177.0, 168.0, 175.0, 163.0, 154.0, 165.0, 160.0, 180.0, 175.0, 163.0, 184.0, 198.0, 175.0, 155.0, 180.0, 175.0, 152.0, 160.0, 167.0, 178.0, 185.0, 167.0, 163.0, 157.0, 151.0, 181.0, 171.0, 169.0, 169.0, 165.0, 180.0, 172.0, 179.0, 180.0, 160.0, 170.0, 175.0, 175.0, 183.0, 153.0, 175.0, 162.0, 180.0, 168.0, 178.0, 160.0, 182.0, 165.0, 176.0, 167.0, 159.0, 173.0, 185.0, 180.0, 185.0, 170.0, 178.0, 167.0, 164.0, 195.0, 159.0, 156.0, 160.0, 167.0, 168.0, 170.0, 175.0, 181.0, 161.0, 182.0, 167.0, 167.0, 158.0, 160.0, 184.0, 165.0, 175.0, 176.0, 166.0, 162.0, 183.0, 156.0, 165.0, 173.0, 176.0, 184.0, 176.0, 165.0, 178.0, 167.0, 183.0, 175.0, 175.0, 185.0, 179.0, 171.0, 181.0, 184.0, 172.0, 180.0, 175.0, 162.0, 180.0, 167.0, 170.0, 160.0, 178.0, 158.0, 172.0, 165.0, 151.0, 162.0, 178.0, 160.0, 181.0, 176.0, 194.0, 156.0, 105.0, 130.0, 180.0, 165.0, 175.0, 160.0, 178.0, 170.0, 182.0, 167.0, 175.0, 160.0, 160.0, 185.0, 170.0, 163.0, 159.0, 165.0, 186.0, 178.0, 160.0, 163.0, 162.0, 178.0, 170.0, 180.0, 160.0, 175.0, 165.0, 168.0, 158.0, 172.0, 173.0, 171.0, 174.0, 181.0, 174.0, 170.0, 181.0, 182.0, 172.0, 191.0, 173.0, 179.0, 165.0, 173.0, 191.0, 190.0, 179.0, 172.0, 170.0, 164.0, 150.0, 150.0, 70.0, 120.0, 110.0, 80.0, 90.0, 100.0, 100.0, 60.0, 175.0, 160.0, 180.0, 165.0, 172.0, 158.0, 185.0, 162.0, 178.0, 160.0, 132.0, 174.0, 150.0, 160.0, 165.0, 152.0, 147.0, 151.0, 184.0, 165.0, 173.0, 180.0, 155.0, 161.0, 172.0, 162.0, 163.0, 177.0, 174.0, 189.0, 190.0, 175.0, 190.0, 167.0, 155.0, 177.0, 168.0, 182.0, 175.0, 176.0, 184.0, 169.0, 178.0, 167.0, 153.0, 158.0, 176.0, 160.0, 174.0, 160.0, 101.0, 80.0, 165.0, 178.0, 172.0, 180.0, 158.0, 160.0, 175.0, 170.0, 182.0, 185.0, 174.0, 150.0, 150.0, 158.0, 180.0, 171.0, 171.0, 170.0, 168.0, 158.0, 173.0, 168.0, 160.0, 165.0, 178.0, 166.0, 150.0, 155.0, 173.0, 177.0, 160.0, 180.0, 165.0, 160.0, 167.0, 178.0, 168.0, 178.0, 172.0, 182.0, 170.0, 172.0, 167.0, 166.0, 170.0, 157.0, 173.0, 185.0, 180.0, 190.0, 171.0, 175.0, 166.0, 155.0, 150.0, 170.0, 162.0, 165.0, 195.0, 182.0, 167.0, 163.0, 172.0, 162.0, 182.0, 165.0, 178.0, 158.0, 172.0, 143.0, 162.0, 186.0, 165.0, 162.0, 186.0, 183.0, 170.0, 165.0, 173.0, 160.0, 163.0, 175.0, 160.0, 180.0, 165.0, 185.0, 162.0, 178.0, 158.0, 182.0, 164.0, 165.0, 175.0, 160.0, 180.0, 158.0, 172.0, 162.0, 185.0, 168.0, 178.0, 172.0, 157.0, 156.0, 186.0, 161.0, 182.0, 173.0, 156.0, 176.0, 176.0]\n"
          ]
        }
      ]
    },
    {
      "cell_type": "code",
      "source": [
        "base[\"altura\"] = base[\"altura\"].round(0).astype(int)\n",
        "print(base[\"altura\"].tolist())"
      ],
      "metadata": {
        "colab": {
          "base_uri": "https://localhost:8080/"
        },
        "id": "CbHjeoSTJIqy",
        "outputId": "6cc33397-d8a0-49d5-c1f9-89b3de9f4372"
      },
      "execution_count": 80,
      "outputs": [
        {
          "output_type": "stream",
          "name": "stdout",
          "text": [
            "[183, 173, 178, 165, 170, 170, 161, 173, 175, 161, 160, 170, 166, 156, 184, 177, 168, 175, 163, 154, 165, 160, 180, 175, 163, 184, 198, 175, 155, 180, 175, 152, 160, 167, 178, 185, 167, 163, 157, 151, 181, 171, 169, 169, 165, 180, 172, 179, 180, 160, 170, 175, 175, 183, 153, 175, 162, 180, 168, 178, 160, 182, 165, 176, 167, 159, 173, 185, 180, 185, 170, 178, 167, 164, 195, 159, 156, 160, 167, 168, 170, 175, 181, 161, 182, 167, 167, 158, 160, 184, 165, 175, 176, 166, 162, 183, 156, 165, 173, 176, 184, 176, 165, 178, 167, 183, 175, 175, 185, 179, 171, 181, 184, 172, 180, 175, 162, 180, 167, 170, 160, 178, 158, 172, 165, 151, 162, 178, 160, 181, 176, 194, 156, 105, 130, 180, 165, 175, 160, 178, 170, 182, 167, 175, 160, 160, 185, 170, 163, 159, 165, 186, 178, 160, 163, 162, 178, 170, 180, 160, 175, 165, 168, 158, 172, 173, 171, 174, 181, 174, 170, 181, 182, 172, 191, 173, 179, 165, 173, 191, 190, 179, 172, 170, 164, 150, 150, 70, 120, 110, 80, 90, 100, 100, 60, 175, 160, 180, 165, 172, 158, 185, 162, 178, 160, 132, 174, 150, 160, 165, 152, 147, 151, 184, 165, 173, 180, 155, 161, 172, 162, 163, 177, 174, 189, 190, 175, 190, 167, 155, 177, 168, 182, 175, 176, 184, 169, 178, 167, 153, 158, 176, 160, 174, 160, 101, 80, 165, 178, 172, 180, 158, 160, 175, 170, 182, 185, 174, 150, 150, 158, 180, 171, 171, 170, 168, 158, 173, 168, 160, 165, 178, 166, 150, 155, 173, 177, 160, 180, 165, 160, 167, 178, 168, 178, 172, 182, 170, 172, 167, 166, 170, 157, 173, 185, 180, 190, 171, 175, 166, 155, 150, 170, 162, 165, 195, 182, 167, 163, 172, 162, 182, 165, 178, 158, 172, 143, 162, 186, 165, 162, 186, 183, 170, 165, 173, 160, 163, 175, 160, 180, 165, 185, 162, 178, 158, 182, 164, 165, 175, 160, 180, 158, 172, 162, 185, 168, 178, 172, 157, 156, 186, 161, 182, 173, 156, 176, 176]\n"
          ]
        }
      ]
    },
    {
      "cell_type": "code",
      "source": [
        "#Analisando altura máxima e altura mínima\n",
        "\n",
        "df = pd.DataFrame(base)\n",
        "linha_maior_peso = df.loc[df[\"altura\"].idxmax()]\n",
        "linha_menor_peso = df.loc[df[\"altura\"].idxmin()]\n",
        "\n",
        "df_extremos = pd.DataFrame([linha_maior_peso, linha_menor_peso])\n",
        "print(df_extremos)"
      ],
      "metadata": {
        "colab": {
          "base_uri": "https://localhost:8080/"
        },
        "id": "H2hRo3xRJTZh",
        "outputId": "e75ec934-f573-4454-94e1-b02f42b637ac"
      },
      "execution_count": 82,
      "outputs": [
        {
          "output_type": "stream",
          "name": "stdout",
          "text": [
            "                pesquisador (aluno)  pesq_id       cep  idade sexo   peso  \\\n",
            "26       Larissa de Almeida Ribeiro      3.0  57302620   60.0    M  100.0   \n",
            "194  Hugo Henrique Corvo dos Santos     16.0   6846160   80.0    M  160.0   \n",
            "\n",
            "     altura  estado_civil  escolaridade  consumo_alcool  fumante  exercícios  \\\n",
            "26      198           3.0           5.0             4.0      1.0         3.0   \n",
            "194      60           1.0           4.0             3.0      1.0         5.0   \n",
            "\n",
            "     dieta  \n",
            "26     3.0  \n",
            "194    1.0  \n"
          ]
        }
      ]
    },
    {
      "cell_type": "code",
      "source": [
        "# Calcular o Z-Score\n",
        "base[\"Z_Score\"] = zscore(base[\"altura\"])\n",
        "\n",
        "# Identificar outliers\n",
        "outliers = base[abs(base[\"Z_Score\"]) > 3]\n",
        "print(\"Outliers com Z-Score:\")\n",
        "print(outliers)"
      ],
      "metadata": {
        "colab": {
          "base_uri": "https://localhost:8080/"
        },
        "id": "cpkqMbgcKC9u",
        "outputId": "29410214-d9b9-408d-8d69-44f8554478b7"
      },
      "execution_count": 88,
      "outputs": [
        {
          "output_type": "stream",
          "name": "stdout",
          "text": [
            "Outliers com Z-Score:\n",
            "                pesquisador (aluno)  pesq_id       cep  idade sexo   peso  \\\n",
            "133         Tatiana Araujo Domingos     10.0  03905040   37.0    M  180.0   \n",
            "187  Hugo Henrique Corvo dos Santos     16.0   6846160   29.0    M  170.0   \n",
            "189  Hugo Henrique Corvo dos Santos     16.0   6843260   40.0    M  180.0   \n",
            "190  Hugo Henrique Corvo dos Santos     16.0   6887100   70.0    M  130.0   \n",
            "191  Hugo Henrique Corvo dos Santos     16.0   6887100   80.0    M  150.0   \n",
            "192  Hugo Henrique Corvo dos Santos     16.0   6846160   40.0    M  140.0   \n",
            "193  Hugo Henrique Corvo dos Santos     16.0   6846160   30.0    M  130.0   \n",
            "194  Hugo Henrique Corvo dos Santos     16.0   6846160   80.0    M  160.0   \n",
            "245             Carlos Augusto Reis     21.0   6730000    4.0    F   20.0   \n",
            "246             Carlos Augusto Reis     21.0   6730000    1.0    F    9.0   \n",
            "\n",
            "     altura  estado_civil  escolaridade  consumo_alcool  fumante  exercícios  \\\n",
            "133     105           2.0           4.0             3.0      4.0         4.0   \n",
            "187      70           2.0           5.0             6.0      4.0         2.0   \n",
            "189     110           3.0           4.0             4.0      4.0         2.0   \n",
            "190      80           3.0           4.0             3.0      1.0         4.0   \n",
            "191      90           3.0           4.0             2.0      1.0         4.0   \n",
            "192     100           3.0           4.0             3.0      1.0         4.0   \n",
            "193     100           2.0           4.0             2.0      1.0         4.0   \n",
            "194      60           1.0           4.0             3.0      1.0         5.0   \n",
            "245     101           1.0           1.0             6.0      4.0         4.0   \n",
            "246      80           1.0           1.0             6.0      4.0         4.0   \n",
            "\n",
            "     dieta   Z_Score  \n",
            "133    1.0 -3.655414  \n",
            "187    1.0 -5.696971  \n",
            "189    2.0 -3.363763  \n",
            "190    1.0 -5.113669  \n",
            "191    1.0 -4.530367  \n",
            "192    1.0 -3.947065  \n",
            "193    1.0 -3.947065  \n",
            "194    1.0 -6.280273  \n",
            "245    1.0 -3.888735  \n",
            "246    1.0 -5.113669  \n"
          ]
        }
      ]
    },
    {
      "cell_type": "markdown",
      "source": [
        "#### ANALISAR MELHOR OS DADOS DE ALTURA"
      ],
      "metadata": {
        "id": "kJna0IR4K2qg"
      }
    },
    {
      "cell_type": "markdown",
      "source": [
        "### 6° Analisando e tratando o campo estado_civil"
      ],
      "metadata": {
        "id": "XCqEe0VWOeTl"
      }
    },
    {
      "cell_type": "code",
      "source": [
        "\"\"\" 1: Solteiro(a) - 2: Casado(a) ou união estável - 3: Divorciado(a)\n",
        "\t\t4: Separado(a) - 5: Viúvo(a)\n",
        "\"\"\"\n",
        "contagem_estado_civil = base['estado_civil'].value_counts()\n",
        "\n",
        "print(\"Contagem de Estado Civil:\")\n",
        "print(contagem_estado_civil)"
      ],
      "metadata": {
        "colab": {
          "base_uri": "https://localhost:8080/"
        },
        "id": "kmFWS2cBOoqQ",
        "outputId": "9e39434d-7664-4de8-c6ed-2f1b67ad43bc"
      },
      "execution_count": 41,
      "outputs": [
        {
          "output_type": "stream",
          "name": "stdout",
          "text": [
            "Contagem de Estado Civil:\n",
            "estado_civil\n",
            "1.0    161\n",
            "2.0    137\n",
            "3.0     27\n",
            "5.0     17\n",
            "4.0     16\n",
            "Name: count, dtype: int64\n"
          ]
        }
      ]
    },
    {
      "cell_type": "code",
      "source": [
        "filtro = (base['idade'] < 18) & (base['estado_civil'] == 2)\n",
        "\n",
        "filtrados_menor_idade = base[filtro]\n",
        "\n",
        "print(filtrados_menor_idade)"
      ],
      "metadata": {
        "colab": {
          "base_uri": "https://localhost:8080/"
        },
        "id": "HFawEx4rQLkr",
        "outputId": "fb152920-1f7f-4d85-fa89-f5baa6ceefa1"
      },
      "execution_count": 46,
      "outputs": [
        {
          "output_type": "stream",
          "name": "stdout",
          "text": [
            "                        pesquisador (aluno)  pesq_id      cep  idade sexo  \\\n",
            "288  Luigi Villanova Machado de Barros Lago     26.0  5606010   15.0    F   \n",
            "\n",
            "     peso altura  estado_civil  escolaridade  consumo_alcool  fumante  \\\n",
            "288  66.0    172           2.0           4.0             6.0      4.0   \n",
            "\n",
            "     exercícios  dieta  \n",
            "288         3.0    1.0  \n"
          ]
        }
      ]
    },
    {
      "cell_type": "markdown",
      "source": [
        "#VERIFICAR COM O LUIGI SE REALMENTE ESSA PESSOAL É CASADA"
      ],
      "metadata": {
        "id": "ECEd5IN63eZz"
      }
    },
    {
      "cell_type": "markdown",
      "source": [
        "### 7° Analisando e tratando o campo escolaridade"
      ],
      "metadata": {
        "id": "_7xJtsQP4EYe"
      }
    },
    {
      "cell_type": "code",
      "source": [
        "\"\"\" 1: Ensino Médio Incompleto    - 2: Ensino Médio Completo\n",
        "\t\t3: Ensino Superior Incompleto - 4: Ensino Superior Completo\n",
        "\t\t5: Pós-Graduação    - 6: Mestrado  - 7: Doutorado\n",
        "\"\"\"\n",
        "base[\"escolaridade\"].value_counts()"
      ],
      "metadata": {
        "colab": {
          "base_uri": "https://localhost:8080/",
          "height": 335
        },
        "id": "KsL8d1974WSz",
        "outputId": "e877718f-6acb-4977-e35a-f071bff74402"
      },
      "execution_count": 49,
      "outputs": [
        {
          "output_type": "execute_result",
          "data": {
            "text/plain": [
              "escolaridade\n",
              "4.0    126\n",
              "3.0     60\n",
              "2.0     55\n",
              "5.0     52\n",
              "1.0     52\n",
              "6.0      9\n",
              "7.0      4\n",
              "Name: count, dtype: int64"
            ],
            "text/html": [
              "<div>\n",
              "<style scoped>\n",
              "    .dataframe tbody tr th:only-of-type {\n",
              "        vertical-align: middle;\n",
              "    }\n",
              "\n",
              "    .dataframe tbody tr th {\n",
              "        vertical-align: top;\n",
              "    }\n",
              "\n",
              "    .dataframe thead th {\n",
              "        text-align: right;\n",
              "    }\n",
              "</style>\n",
              "<table border=\"1\" class=\"dataframe\">\n",
              "  <thead>\n",
              "    <tr style=\"text-align: right;\">\n",
              "      <th></th>\n",
              "      <th>count</th>\n",
              "    </tr>\n",
              "    <tr>\n",
              "      <th>escolaridade</th>\n",
              "      <th></th>\n",
              "    </tr>\n",
              "  </thead>\n",
              "  <tbody>\n",
              "    <tr>\n",
              "      <th>4.0</th>\n",
              "      <td>126</td>\n",
              "    </tr>\n",
              "    <tr>\n",
              "      <th>3.0</th>\n",
              "      <td>60</td>\n",
              "    </tr>\n",
              "    <tr>\n",
              "      <th>2.0</th>\n",
              "      <td>55</td>\n",
              "    </tr>\n",
              "    <tr>\n",
              "      <th>5.0</th>\n",
              "      <td>52</td>\n",
              "    </tr>\n",
              "    <tr>\n",
              "      <th>1.0</th>\n",
              "      <td>52</td>\n",
              "    </tr>\n",
              "    <tr>\n",
              "      <th>6.0</th>\n",
              "      <td>9</td>\n",
              "    </tr>\n",
              "    <tr>\n",
              "      <th>7.0</th>\n",
              "      <td>4</td>\n",
              "    </tr>\n",
              "  </tbody>\n",
              "</table>\n",
              "</div><br><label><b>dtype:</b> int64</label>"
            ]
          },
          "metadata": {},
          "execution_count": 49
        }
      ]
    },
    {
      "cell_type": "markdown",
      "source": [
        "### 8° Analisando e tratando o campo consumo_alcool"
      ],
      "metadata": {
        "id": "2gjo-953AYKi"
      }
    },
    {
      "cell_type": "markdown",
      "source": [
        "### 9° Analisando e tratando o campo fumante"
      ],
      "metadata": {
        "id": "XwwZ-ff4AcQ5"
      }
    },
    {
      "cell_type": "markdown",
      "source": [
        "### 10° Analisando e tratando o campo exercí­cios"
      ],
      "metadata": {
        "id": "JIBIEKIMAllw"
      }
    },
    {
      "cell_type": "markdown",
      "source": [
        "### 11° Analisando e tratando o campo dieta"
      ],
      "metadata": {
        "id": "qaiNifUWAu6E"
      }
    },
    {
      "cell_type": "code",
      "source": [
        "#6- Formatar campo peso -\n",
        "#7- Formatar campo altura - Substituir , po .\n",
        "\n",
        "#9- Campo fumante vai de 1 - 4 - Substiuir 5 por\n",
        "#10- Campo exercício vai de 1 - 4 - substituir por"
      ],
      "metadata": {
        "id": "RcJu4pP1PqCn"
      },
      "execution_count": 97,
      "outputs": []
    },
    {
      "cell_type": "markdown",
      "source": [
        "#Testes de Normalidade"
      ],
      "metadata": {
        "id": "uYQlxT20z1ND"
      }
    },
    {
      "cell_type": "code",
      "source": [],
      "metadata": {
        "id": "ggXSiLvyz9bN"
      },
      "execution_count": null,
      "outputs": []
    },
    {
      "cell_type": "markdown",
      "source": [
        "#Testes de Homogeneidade"
      ],
      "metadata": {
        "id": "NR8bkF7bLAQk"
      }
    },
    {
      "cell_type": "code",
      "source": [],
      "metadata": {
        "id": "qvT71sG53zxk"
      },
      "execution_count": null,
      "outputs": []
    },
    {
      "cell_type": "markdown",
      "source": [
        "#Testes de Independência"
      ],
      "metadata": {
        "id": "C2YQ-V9ULJK3"
      }
    },
    {
      "cell_type": "code",
      "source": [],
      "metadata": {
        "id": "RKyYBaEL35gX"
      },
      "execution_count": null,
      "outputs": []
    },
    {
      "cell_type": "markdown",
      "source": [
        "#Escolher uma variável categórica do dataset e demonstrar como seria uma distribuição homogênea"
      ],
      "metadata": {
        "id": "h6K6rkicLQBe"
      }
    },
    {
      "cell_type": "code",
      "source": [],
      "metadata": {
        "id": "sDbJMeY_1LO7"
      },
      "execution_count": null,
      "outputs": []
    },
    {
      "cell_type": "markdown",
      "source": [
        "#Separando os dados por sexo (M/F), calcular média e desvio padrão, escrever o intervalo de confiança para os dados quantitativos:"
      ],
      "metadata": {
        "id": "0hj2REwJpV9Z"
      }
    },
    {
      "cell_type": "code",
      "source": [],
      "metadata": {
        "id": "YzgDtknnpa2e"
      },
      "execution_count": null,
      "outputs": []
    },
    {
      "cell_type": "markdown",
      "source": [
        "#Mantendo a separação por sexo (M/F), realizar análise de normalidade dos dados quantitativos descrevendo o resultado da análise"
      ],
      "metadata": {
        "id": "s_fJ8DnYpjli"
      }
    },
    {
      "cell_type": "code",
      "source": [],
      "metadata": {
        "id": "FlYhjHvvplMP"
      },
      "execution_count": null,
      "outputs": []
    },
    {
      "cell_type": "markdown",
      "source": [
        "#Realizar análise de independência entre o atributo sexo (M/F) com os atributos (consumo_alcool, fumante, exercicios e dieta), descrevendo o resultado da análise"
      ],
      "metadata": {
        "id": "LRknsapVppab"
      }
    },
    {
      "cell_type": "code",
      "source": [],
      "metadata": {
        "id": "Iz1QyJQrprFl"
      },
      "execution_count": null,
      "outputs": []
    },
    {
      "cell_type": "markdown",
      "source": [
        "#Realizar análise de homogeneidade de cada variável categórica, descrevendo o resultado da análise;"
      ],
      "metadata": {
        "id": "l9Pyhx8JpxSW"
      }
    },
    {
      "cell_type": "code",
      "source": [],
      "metadata": {
        "id": "FxK9uY7_p0z-"
      },
      "execution_count": null,
      "outputs": []
    },
    {
      "cell_type": "markdown",
      "source": [
        "#Escolher uma variável categórica e montar como seria um dataset homogêneo dessa variável"
      ],
      "metadata": {
        "id": "2To7F3Agp96v"
      }
    },
    {
      "cell_type": "code",
      "source": [],
      "metadata": {
        "id": "xXCse9m-p_YU"
      },
      "execution_count": null,
      "outputs": []
    }
  ]
}